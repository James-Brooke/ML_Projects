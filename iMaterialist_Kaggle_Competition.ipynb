{
 "cells": [
  {
   "cell_type": "markdown",
   "metadata": {},
   "source": [
    "# iMaterialist_Kaggle_Competition"
   ]
  },
  {
   "cell_type": "markdown",
   "metadata": {},
   "source": [
    "https://www.kaggle.com/c/imaterialist-challenge-fashion-2018"
   ]
  },
  {
   "cell_type": "code",
   "execution_count": 3,
   "metadata": {},
   "outputs": [],
   "source": [
    "import sys, os, multiprocessing, urllib3, csv\n",
    "from PIL import Image\n",
    "from io import BytesIO\n",
    "import pandas as pd"
   ]
  },
  {
   "cell_type": "markdown",
   "metadata": {},
   "source": [
    "Dataset is provided as a list of urls. First step is to get all the images."
   ]
  },
  {
   "cell_type": "markdown",
   "metadata": {},
   "source": [
    "#### Downloading validation and testing image sets"
   ]
  },
  {
   "cell_type": "code",
   "execution_count": 1,
   "metadata": {},
   "outputs": [],
   "source": [
    "PATH = \"/media/james/HDD/Data_sets/iMaterialist/jsonfiles/\""
   ]
  },
  {
   "cell_type": "code",
   "execution_count": 55,
   "metadata": {},
   "outputs": [],
   "source": [
    "df = pd.read_json(f\"{PATH}validation.json\")"
   ]
  },
  {
   "cell_type": "code",
   "execution_count": 6,
   "metadata": {},
   "outputs": [],
   "source": [
    "def anno_checker(anno):\n",
    "    known = ['labelId', 'imageId']\n",
    "    for key in anno.keys():\n",
    "        if key not in known: \n",
    "            return 1"
   ]
  },
  {
   "cell_type": "code",
   "execution_count": 7,
   "metadata": {},
   "outputs": [
    {
     "data": {
      "text/plain": [
       "0"
      ]
     },
     "execution_count": 7,
     "metadata": {},
     "output_type": "execute_result"
    }
   ],
   "source": [
    "df.annotations.apply(anno_checker).sum() #annotations only contain ids and labels"
   ]
  },
  {
   "cell_type": "code",
   "execution_count": 8,
   "metadata": {},
   "outputs": [],
   "source": [
    "def anno_puller(anno):\n",
    "    return [int(label) for label in anno['labelId']]"
   ]
  },
  {
   "cell_type": "code",
   "execution_count": 9,
   "metadata": {},
   "outputs": [],
   "source": [
    "df['annos'] = df.annotations.apply(anno_puller) #sort nested dicts to columns\n",
    "df['annos_id'] = df.annotations.apply(lambda x: x['imageId'])\n",
    "df['image_id'] = df.images.apply(lambda x: x['imageId'])\n",
    "df['image_url'] = df.images.apply(lambda x: x['url'])"
   ]
  },
  {
   "cell_type": "code",
   "execution_count": 10,
   "metadata": {},
   "outputs": [
    {
     "data": {
      "text/html": [
       "<div>\n",
       "<style scoped>\n",
       "    .dataframe tbody tr th:only-of-type {\n",
       "        vertical-align: middle;\n",
       "    }\n",
       "\n",
       "    .dataframe tbody tr th {\n",
       "        vertical-align: top;\n",
       "    }\n",
       "\n",
       "    .dataframe thead th {\n",
       "        text-align: right;\n",
       "    }\n",
       "</style>\n",
       "<table border=\"1\" class=\"dataframe\">\n",
       "  <thead>\n",
       "    <tr style=\"text-align: right;\">\n",
       "      <th></th>\n",
       "      <th>annotations</th>\n",
       "      <th>images</th>\n",
       "      <th>annos</th>\n",
       "      <th>annos_id</th>\n",
       "      <th>image_id</th>\n",
       "      <th>image_url</th>\n",
       "    </tr>\n",
       "  </thead>\n",
       "  <tbody>\n",
       "    <tr>\n",
       "      <th>0</th>\n",
       "      <td>{'labelId': ['62', '17', '66', '214', '105', '...</td>\n",
       "      <td>{'url': 'https://contestimg.wish.com/api/webim...</td>\n",
       "      <td>[62, 17, 66, 214, 105, 137, 85]</td>\n",
       "      <td>1</td>\n",
       "      <td>1</td>\n",
       "      <td>https://contestimg.wish.com/api/webimage/568e1...</td>\n",
       "    </tr>\n",
       "    <tr>\n",
       "      <th>1</th>\n",
       "      <td>{'labelId': ['95', '17', '66', '214', '164', '...</td>\n",
       "      <td>{'url': 'https://contestimg.wish.com/api/webim...</td>\n",
       "      <td>[95, 17, 66, 214, 164, 137, 20, 204, 184]</td>\n",
       "      <td>2</td>\n",
       "      <td>2</td>\n",
       "      <td>https://contestimg.wish.com/api/webimage/5452f...</td>\n",
       "    </tr>\n",
       "    <tr>\n",
       "      <th>2</th>\n",
       "      <td>{'labelId': ['122', '19', '66', '186', '180', ...</td>\n",
       "      <td>{'url': 'https://contestimg.wish.com/api/webim...</td>\n",
       "      <td>[122, 19, 66, 186, 180, 44, 154, 20]</td>\n",
       "      <td>3</td>\n",
       "      <td>3</td>\n",
       "      <td>https://contestimg.wish.com/api/webimage/54058...</td>\n",
       "    </tr>\n",
       "    <tr>\n",
       "      <th>3</th>\n",
       "      <td>{'labelId': ['190', '222', '66', '153', '164',...</td>\n",
       "      <td>{'url': 'https://contestimg.wish.com/api/webim...</td>\n",
       "      <td>[190, 222, 66, 153, 164, 226, 53, 184]</td>\n",
       "      <td>4</td>\n",
       "      <td>4</td>\n",
       "      <td>https://contestimg.wish.com/api/webimage/540c6...</td>\n",
       "    </tr>\n",
       "    <tr>\n",
       "      <th>4</th>\n",
       "      <td>{'labelId': ['62', '66', '153', '171', '111', ...</td>\n",
       "      <td>{'url': 'https://contestimg.wish.com/api/webim...</td>\n",
       "      <td>[62, 66, 153, 171, 111, 137, 70, 204, 184]</td>\n",
       "      <td>5</td>\n",
       "      <td>5</td>\n",
       "      <td>https://contestimg.wish.com/api/webimage/54477...</td>\n",
       "    </tr>\n",
       "  </tbody>\n",
       "</table>\n",
       "</div>"
      ],
      "text/plain": [
       "                                         annotations  \\\n",
       "0  {'labelId': ['62', '17', '66', '214', '105', '...   \n",
       "1  {'labelId': ['95', '17', '66', '214', '164', '...   \n",
       "2  {'labelId': ['122', '19', '66', '186', '180', ...   \n",
       "3  {'labelId': ['190', '222', '66', '153', '164',...   \n",
       "4  {'labelId': ['62', '66', '153', '171', '111', ...   \n",
       "\n",
       "                                              images  \\\n",
       "0  {'url': 'https://contestimg.wish.com/api/webim...   \n",
       "1  {'url': 'https://contestimg.wish.com/api/webim...   \n",
       "2  {'url': 'https://contestimg.wish.com/api/webim...   \n",
       "3  {'url': 'https://contestimg.wish.com/api/webim...   \n",
       "4  {'url': 'https://contestimg.wish.com/api/webim...   \n",
       "\n",
       "                                        annos annos_id image_id  \\\n",
       "0             [62, 17, 66, 214, 105, 137, 85]        1        1   \n",
       "1   [95, 17, 66, 214, 164, 137, 20, 204, 184]        2        2   \n",
       "2        [122, 19, 66, 186, 180, 44, 154, 20]        3        3   \n",
       "3      [190, 222, 66, 153, 164, 226, 53, 184]        4        4   \n",
       "4  [62, 66, 153, 171, 111, 137, 70, 204, 184]        5        5   \n",
       "\n",
       "                                           image_url  \n",
       "0  https://contestimg.wish.com/api/webimage/568e1...  \n",
       "1  https://contestimg.wish.com/api/webimage/5452f...  \n",
       "2  https://contestimg.wish.com/api/webimage/54058...  \n",
       "3  https://contestimg.wish.com/api/webimage/540c6...  \n",
       "4  https://contestimg.wish.com/api/webimage/54477...  "
      ]
     },
     "execution_count": 10,
     "metadata": {},
     "output_type": "execute_result"
    }
   ],
   "source": [
    "df.head()"
   ]
  },
  {
   "cell_type": "code",
   "execution_count": 11,
   "metadata": {},
   "outputs": [
    {
     "data": {
      "text/plain": [
       "True"
      ]
     },
     "execution_count": 11,
     "metadata": {},
     "output_type": "execute_result"
    }
   ],
   "source": [
    "(df.annos_id == df.image_id).all() #all image urls and labels match"
   ]
  },
  {
   "cell_type": "code",
   "execution_count": 12,
   "metadata": {},
   "outputs": [],
   "source": [
    "df.drop(['annotations','images','annos_id'], axis=1, inplace=True)"
   ]
  },
  {
   "cell_type": "code",
   "execution_count": 14,
   "metadata": {},
   "outputs": [
    {
     "data": {
      "text/html": [
       "<div>\n",
       "<style scoped>\n",
       "    .dataframe tbody tr th:only-of-type {\n",
       "        vertical-align: middle;\n",
       "    }\n",
       "\n",
       "    .dataframe tbody tr th {\n",
       "        vertical-align: top;\n",
       "    }\n",
       "\n",
       "    .dataframe thead th {\n",
       "        text-align: right;\n",
       "    }\n",
       "</style>\n",
       "<table border=\"1\" class=\"dataframe\">\n",
       "  <thead>\n",
       "    <tr style=\"text-align: right;\">\n",
       "      <th></th>\n",
       "      <th>annos</th>\n",
       "      <th>image_id</th>\n",
       "      <th>image_url</th>\n",
       "    </tr>\n",
       "  </thead>\n",
       "  <tbody>\n",
       "    <tr>\n",
       "      <th>0</th>\n",
       "      <td>[62, 17, 66, 214, 105, 137, 85]</td>\n",
       "      <td>1</td>\n",
       "      <td>https://contestimg.wish.com/api/webimage/568e1...</td>\n",
       "    </tr>\n",
       "    <tr>\n",
       "      <th>1</th>\n",
       "      <td>[95, 17, 66, 214, 164, 137, 20, 204, 184]</td>\n",
       "      <td>2</td>\n",
       "      <td>https://contestimg.wish.com/api/webimage/5452f...</td>\n",
       "    </tr>\n",
       "    <tr>\n",
       "      <th>2</th>\n",
       "      <td>[122, 19, 66, 186, 180, 44, 154, 20]</td>\n",
       "      <td>3</td>\n",
       "      <td>https://contestimg.wish.com/api/webimage/54058...</td>\n",
       "    </tr>\n",
       "    <tr>\n",
       "      <th>3</th>\n",
       "      <td>[190, 222, 66, 153, 164, 226, 53, 184]</td>\n",
       "      <td>4</td>\n",
       "      <td>https://contestimg.wish.com/api/webimage/540c6...</td>\n",
       "    </tr>\n",
       "    <tr>\n",
       "      <th>4</th>\n",
       "      <td>[62, 66, 153, 171, 111, 137, 70, 204, 184]</td>\n",
       "      <td>5</td>\n",
       "      <td>https://contestimg.wish.com/api/webimage/54477...</td>\n",
       "    </tr>\n",
       "  </tbody>\n",
       "</table>\n",
       "</div>"
      ],
      "text/plain": [
       "                                        annos image_id  \\\n",
       "0             [62, 17, 66, 214, 105, 137, 85]        1   \n",
       "1   [95, 17, 66, 214, 164, 137, 20, 204, 184]        2   \n",
       "2        [122, 19, 66, 186, 180, 44, 154, 20]        3   \n",
       "3      [190, 222, 66, 153, 164, 226, 53, 184]        4   \n",
       "4  [62, 66, 153, 171, 111, 137, 70, 204, 184]        5   \n",
       "\n",
       "                                           image_url  \n",
       "0  https://contestimg.wish.com/api/webimage/568e1...  \n",
       "1  https://contestimg.wish.com/api/webimage/5452f...  \n",
       "2  https://contestimg.wish.com/api/webimage/54058...  \n",
       "3  https://contestimg.wish.com/api/webimage/540c6...  \n",
       "4  https://contestimg.wish.com/api/webimage/54477...  "
      ]
     },
     "execution_count": 14,
     "metadata": {},
     "output_type": "execute_result"
    }
   ],
   "source": [
    "df.head()"
   ]
  },
  {
   "cell_type": "code",
   "execution_count": 49,
   "metadata": {},
   "outputs": [],
   "source": [
    "labelcsv = df[['image_id','annos']].copy() #create a csv of labels for fastai\n",
    "labelcsv.iloc[:,1] = labelcsv['annos']\\\n",
    ".apply(lambda x: \"\".join(str(x))\\\n",
    ".replace(\",\",\"\")\\\n",
    ".replace(\"[\", \"\")\\\n",
    ".replace(\"]\", \"\"))"
   ]
  },
  {
   "cell_type": "code",
   "execution_count": 50,
   "metadata": {},
   "outputs": [
    {
     "data": {
      "text/html": [
       "<div>\n",
       "<style scoped>\n",
       "    .dataframe tbody tr th:only-of-type {\n",
       "        vertical-align: middle;\n",
       "    }\n",
       "\n",
       "    .dataframe tbody tr th {\n",
       "        vertical-align: top;\n",
       "    }\n",
       "\n",
       "    .dataframe thead th {\n",
       "        text-align: right;\n",
       "    }\n",
       "</style>\n",
       "<table border=\"1\" class=\"dataframe\">\n",
       "  <thead>\n",
       "    <tr style=\"text-align: right;\">\n",
       "      <th></th>\n",
       "      <th>image_id</th>\n",
       "      <th>annos</th>\n",
       "    </tr>\n",
       "  </thead>\n",
       "  <tbody>\n",
       "    <tr>\n",
       "      <th>0</th>\n",
       "      <td>1</td>\n",
       "      <td>62 17 66 214 105 137 85</td>\n",
       "    </tr>\n",
       "    <tr>\n",
       "      <th>1</th>\n",
       "      <td>2</td>\n",
       "      <td>95 17 66 214 164 137 20 204 184</td>\n",
       "    </tr>\n",
       "    <tr>\n",
       "      <th>2</th>\n",
       "      <td>3</td>\n",
       "      <td>122 19 66 186 180 44 154 20</td>\n",
       "    </tr>\n",
       "    <tr>\n",
       "      <th>3</th>\n",
       "      <td>4</td>\n",
       "      <td>190 222 66 153 164 226 53 184</td>\n",
       "    </tr>\n",
       "    <tr>\n",
       "      <th>4</th>\n",
       "      <td>5</td>\n",
       "      <td>62 66 153 171 111 137 70 204 184</td>\n",
       "    </tr>\n",
       "  </tbody>\n",
       "</table>\n",
       "</div>"
      ],
      "text/plain": [
       "  image_id                             annos\n",
       "0        1           62 17 66 214 105 137 85\n",
       "1        2   95 17 66 214 164 137 20 204 184\n",
       "2        3       122 19 66 186 180 44 154 20\n",
       "3        4     190 222 66 153 164 226 53 184\n",
       "4        5  62 66 153 171 111 137 70 204 184"
      ]
     },
     "execution_count": 50,
     "metadata": {},
     "output_type": "execute_result"
    }
   ],
   "source": [
    "labelcsv.head()"
   ]
  },
  {
   "cell_type": "code",
   "execution_count": 54,
   "metadata": {},
   "outputs": [],
   "source": [
    "labelcsv.to_csv(\"/media/james/HDD/Data_sets/iMaterialist/train_labels.csv\",index=False, header=False)"
   ]
  },
  {
   "cell_type": "code",
   "execution_count": 12,
   "metadata": {},
   "outputs": [],
   "source": [
    "save_dir = \"/media/james/HDD/Data_sets/iMaterialist/\""
   ]
  },
  {
   "cell_type": "code",
   "execution_count": 48,
   "metadata": {},
   "outputs": [],
   "source": [
    "client = urllib3.PoolManager(500) #multiple requests\n",
    "urllib3.disable_warnings(urllib3.exceptions.InsecureRequestWarning)"
   ]
  },
  {
   "cell_type": "code",
   "execution_count": 114,
   "metadata": {},
   "outputs": [],
   "source": [
    "def DownloadImage(img_id, url):\n",
    "    fname = os.path.join(save_dir, f'{img_id}.jpg')\n",
    "    \n",
    "    if os.path.exists(fname):\n",
    "        return\n",
    "    \n",
    "    try:\n",
    "        global client\n",
    "        response = client.request('GET', url)\n",
    "        img = response.data\n",
    "    except: \n",
    "        print(f'download failed: {img_id}')\n",
    "        \n",
    "    try:\n",
    "        pil_img = Image.open(BytesIO(img))\n",
    "    except:\n",
    "        print(f'PIL failed: {img_id}')\n",
    "        \n",
    "    try:\n",
    "        img_rgb = pil_img.convert('RGB')\n",
    "    except:\n",
    "        print(f'RGB failed: {img_id}')\n",
    "        \n",
    "    try:\n",
    "        img_rgb.save(fname, format='JPEG', quality=90)\n",
    "    except:\n",
    "        print(f'save failed: {img_id}')"
   ]
  },
  {
   "cell_type": "code",
   "execution_count": 49,
   "metadata": {},
   "outputs": [],
   "source": [
    "iterlist = []\n",
    "for row in df.itertuples():\n",
    "    iterlist.append((row.image_id, row.image_url))"
   ]
  },
  {
   "cell_type": "code",
   "execution_count": 59,
   "metadata": {},
   "outputs": [
    {
     "name": "stdout",
     "output_type": "stream",
     "text": [
      "1000\n",
      "2000\n",
      "3000\n",
      "4000\n",
      "5000\n",
      "6000\n",
      "7000\n",
      "8000\n",
      "9000\n"
     ]
    },
    {
     "name": "stderr",
     "output_type": "stream",
     "text": [
      "Process ForkPoolWorker-167:\n",
      "Process ForkPoolWorker-165:\n",
      "Process ForkPoolWorker-166:\n",
      "Process ForkPoolWorker-168:\n",
      "Process ForkPoolWorker-164:\n",
      "Process ForkPoolWorker-157:\n",
      "Process ForkPoolWorker-158:\n",
      "Process ForkPoolWorker-160:\n",
      "Process ForkPoolWorker-159:\n",
      "Process ForkPoolWorker-162:\n",
      "Process ForkPoolWorker-163:\n",
      "Process ForkPoolWorker-161:\n",
      "Traceback (most recent call last):\n",
      "Traceback (most recent call last):\n",
      "Traceback (most recent call last):\n",
      "Traceback (most recent call last):\n",
      "Traceback (most recent call last):\n",
      "Traceback (most recent call last):\n",
      "  File \"/media/james/HDD/Linux/Anaconda/lib/python3.6/multiprocessing/process.py\", line 258, in _bootstrap\n",
      "    self.run()\n",
      "  File \"/media/james/HDD/Linux/Anaconda/lib/python3.6/multiprocessing/process.py\", line 258, in _bootstrap\n",
      "    self.run()\n",
      "  File \"/media/james/HDD/Linux/Anaconda/lib/python3.6/multiprocessing/process.py\", line 258, in _bootstrap\n",
      "    self.run()\n",
      "  File \"/media/james/HDD/Linux/Anaconda/lib/python3.6/multiprocessing/process.py\", line 258, in _bootstrap\n",
      "    self.run()\n",
      "  File \"/media/james/HDD/Linux/Anaconda/lib/python3.6/multiprocessing/process.py\", line 258, in _bootstrap\n",
      "    self.run()\n",
      "  File \"/media/james/HDD/Linux/Anaconda/lib/python3.6/multiprocessing/process.py\", line 258, in _bootstrap\n",
      "    self.run()\n",
      "  File \"/media/james/HDD/Linux/Anaconda/lib/python3.6/multiprocessing/process.py\", line 93, in run\n",
      "    self._target(*self._args, **self._kwargs)\n",
      "  File \"/media/james/HDD/Linux/Anaconda/lib/python3.6/multiprocessing/process.py\", line 93, in run\n",
      "    self._target(*self._args, **self._kwargs)\n",
      "  File \"/media/james/HDD/Linux/Anaconda/lib/python3.6/multiprocessing/connection.py\", line 216, in recv_bytes\n",
      "    buf = self._recv_bytes(maxlength)\n",
      "Traceback (most recent call last):\n",
      "  File \"/media/james/HDD/Linux/Anaconda/lib/python3.6/multiprocessing/process.py\", line 93, in run\n",
      "    self._target(*self._args, **self._kwargs)\n",
      "  File \"/media/james/HDD/Linux/Anaconda/lib/python3.6/multiprocessing/pool.py\", line 108, in worker\n",
      "    task = get()\n",
      "  File \"/media/james/HDD/Linux/Anaconda/lib/python3.6/multiprocessing/process.py\", line 93, in run\n",
      "    self._target(*self._args, **self._kwargs)\n",
      "  File \"/media/james/HDD/Linux/Anaconda/lib/python3.6/multiprocessing/process.py\", line 93, in run\n",
      "    self._target(*self._args, **self._kwargs)\n",
      "  File \"/media/james/HDD/Linux/Anaconda/lib/python3.6/multiprocessing/process.py\", line 93, in run\n",
      "    self._target(*self._args, **self._kwargs)\n",
      "  File \"/media/james/HDD/Linux/Anaconda/lib/python3.6/multiprocessing/pool.py\", line 108, in worker\n",
      "    task = get()\n",
      "  File \"/media/james/HDD/Linux/Anaconda/lib/python3.6/multiprocessing/process.py\", line 258, in _bootstrap\n",
      "    self.run()\n",
      "  File \"/media/james/HDD/Linux/Anaconda/lib/python3.6/multiprocessing/pool.py\", line 108, in worker\n",
      "    task = get()\n",
      "  File \"/media/james/HDD/Linux/Anaconda/lib/python3.6/multiprocessing/queues.py\", line 334, in get\n",
      "    with self._rlock:\n",
      "  File \"/media/james/HDD/Linux/Anaconda/lib/python3.6/multiprocessing/queues.py\", line 334, in get\n",
      "    with self._rlock:\n",
      "  File \"/media/james/HDD/Linux/Anaconda/lib/python3.6/multiprocessing/pool.py\", line 108, in worker\n",
      "    task = get()\n",
      "  File \"/media/james/HDD/Linux/Anaconda/lib/python3.6/multiprocessing/pool.py\", line 108, in worker\n",
      "    task = get()\n",
      "  File \"/media/james/HDD/Linux/Anaconda/lib/python3.6/multiprocessing/pool.py\", line 108, in worker\n",
      "    task = get()\n",
      "  File \"/media/james/HDD/Linux/Anaconda/lib/python3.6/multiprocessing/process.py\", line 93, in run\n",
      "    self._target(*self._args, **self._kwargs)\n",
      "  File \"/media/james/HDD/Linux/Anaconda/lib/python3.6/multiprocessing/queues.py\", line 335, in get\n",
      "    res = self._reader.recv_bytes()\n",
      "  File \"/media/james/HDD/Linux/Anaconda/lib/python3.6/multiprocessing/synchronize.py\", line 96, in __enter__\n",
      "    return self._semlock.__enter__()\n",
      "  File \"/media/james/HDD/Linux/Anaconda/lib/python3.6/multiprocessing/queues.py\", line 334, in get\n",
      "    with self._rlock:\n",
      "  File \"/media/james/HDD/Linux/Anaconda/lib/python3.6/multiprocessing/queues.py\", line 334, in get\n",
      "    with self._rlock:\n",
      "  File \"/media/james/HDD/Linux/Anaconda/lib/python3.6/multiprocessing/synchronize.py\", line 96, in __enter__\n",
      "    return self._semlock.__enter__()\n",
      "  File \"/media/james/HDD/Linux/Anaconda/lib/python3.6/multiprocessing/queues.py\", line 334, in get\n",
      "    with self._rlock:\n",
      "  File \"/media/james/HDD/Linux/Anaconda/lib/python3.6/multiprocessing/pool.py\", line 108, in worker\n",
      "    task = get()\n",
      "KeyboardInterrupt\n",
      "  File \"/media/james/HDD/Linux/Anaconda/lib/python3.6/multiprocessing/connection.py\", line 407, in _recv_bytes\n",
      "    buf = self._recv(4)\n",
      "  File \"/media/james/HDD/Linux/Anaconda/lib/python3.6/multiprocessing/synchronize.py\", line 96, in __enter__\n",
      "    return self._semlock.__enter__()\n",
      "KeyboardInterrupt\n",
      "  File \"/media/james/HDD/Linux/Anaconda/lib/python3.6/multiprocessing/synchronize.py\", line 96, in __enter__\n",
      "    return self._semlock.__enter__()\n",
      "  File \"/media/james/HDD/Linux/Anaconda/lib/python3.6/multiprocessing/synchronize.py\", line 96, in __enter__\n",
      "    return self._semlock.__enter__()\n",
      "  File \"/media/james/HDD/Linux/Anaconda/lib/python3.6/multiprocessing/queues.py\", line 334, in get\n",
      "    with self._rlock:\n",
      "KeyboardInterrupt\n",
      "KeyboardInterrupt\n",
      "KeyboardInterrupt\n",
      "  File \"/media/james/HDD/Linux/Anaconda/lib/python3.6/multiprocessing/connection.py\", line 379, in _recv\n",
      "    chunk = read(handle, remaining)\n",
      "KeyboardInterrupt\n",
      "  File \"/media/james/HDD/Linux/Anaconda/lib/python3.6/multiprocessing/synchronize.py\", line 96, in __enter__\n",
      "    return self._semlock.__enter__()\n",
      "KeyboardInterrupt\n",
      "Traceback (most recent call last):\n",
      "Traceback (most recent call last):\n",
      "Traceback (most recent call last):\n",
      "Traceback (most recent call last):\n",
      "Traceback (most recent call last):\n",
      "  File \"/media/james/HDD/Linux/Anaconda/lib/python3.6/multiprocessing/process.py\", line 258, in _bootstrap\n",
      "    self.run()\n",
      "  File \"/media/james/HDD/Linux/Anaconda/lib/python3.6/multiprocessing/process.py\", line 258, in _bootstrap\n",
      "    self.run()\n",
      "  File \"/media/james/HDD/Linux/Anaconda/lib/python3.6/multiprocessing/process.py\", line 258, in _bootstrap\n",
      "    self.run()\n",
      "  File \"/media/james/HDD/Linux/Anaconda/lib/python3.6/multiprocessing/process.py\", line 258, in _bootstrap\n",
      "    self.run()\n",
      "  File \"/media/james/HDD/Linux/Anaconda/lib/python3.6/multiprocessing/process.py\", line 258, in _bootstrap\n",
      "    self.run()\n",
      "  File \"/media/james/HDD/Linux/Anaconda/lib/python3.6/multiprocessing/process.py\", line 93, in run\n",
      "    self._target(*self._args, **self._kwargs)\n",
      "  File \"/media/james/HDD/Linux/Anaconda/lib/python3.6/multiprocessing/process.py\", line 93, in run\n",
      "    self._target(*self._args, **self._kwargs)\n",
      "  File \"/media/james/HDD/Linux/Anaconda/lib/python3.6/multiprocessing/process.py\", line 93, in run\n",
      "    self._target(*self._args, **self._kwargs)\n",
      "  File \"/media/james/HDD/Linux/Anaconda/lib/python3.6/multiprocessing/process.py\", line 93, in run\n",
      "    self._target(*self._args, **self._kwargs)\n",
      "  File \"/media/james/HDD/Linux/Anaconda/lib/python3.6/multiprocessing/pool.py\", line 108, in worker\n",
      "    task = get()\n",
      "  File \"/media/james/HDD/Linux/Anaconda/lib/python3.6/multiprocessing/pool.py\", line 108, in worker\n",
      "    task = get()\n",
      "  File \"/media/james/HDD/Linux/Anaconda/lib/python3.6/multiprocessing/pool.py\", line 108, in worker\n",
      "    task = get()\n",
      "  File \"/media/james/HDD/Linux/Anaconda/lib/python3.6/multiprocessing/queues.py\", line 334, in get\n",
      "    with self._rlock:\n",
      "  File \"/media/james/HDD/Linux/Anaconda/lib/python3.6/multiprocessing/queues.py\", line 334, in get\n",
      "    with self._rlock:\n",
      "  File \"/media/james/HDD/Linux/Anaconda/lib/python3.6/multiprocessing/pool.py\", line 108, in worker\n",
      "    task = get()\n",
      "  File \"/media/james/HDD/Linux/Anaconda/lib/python3.6/multiprocessing/process.py\", line 93, in run\n",
      "    self._target(*self._args, **self._kwargs)\n",
      "  File \"/media/james/HDD/Linux/Anaconda/lib/python3.6/multiprocessing/synchronize.py\", line 96, in __enter__\n",
      "    return self._semlock.__enter__()\n",
      "  File \"/media/james/HDD/Linux/Anaconda/lib/python3.6/multiprocessing/queues.py\", line 334, in get\n",
      "    with self._rlock:\n",
      "  File \"/media/james/HDD/Linux/Anaconda/lib/python3.6/multiprocessing/synchronize.py\", line 96, in __enter__\n",
      "    return self._semlock.__enter__()\n",
      "  File \"/media/james/HDD/Linux/Anaconda/lib/python3.6/multiprocessing/queues.py\", line 334, in get\n",
      "    with self._rlock:\n"
     ]
    },
    {
     "name": "stderr",
     "output_type": "stream",
     "text": [
      "  File \"/media/james/HDD/Linux/Anaconda/lib/python3.6/multiprocessing/pool.py\", line 108, in worker\n",
      "    task = get()\n",
      "  File \"/media/james/HDD/Linux/Anaconda/lib/python3.6/multiprocessing/queues.py\", line 334, in get\n",
      "    with self._rlock:\n",
      "  File \"/media/james/HDD/Linux/Anaconda/lib/python3.6/multiprocessing/synchronize.py\", line 96, in __enter__\n",
      "    return self._semlock.__enter__()\n",
      "KeyboardInterrupt\n",
      "  File \"/media/james/HDD/Linux/Anaconda/lib/python3.6/multiprocessing/synchronize.py\", line 96, in __enter__\n",
      "    return self._semlock.__enter__()\n",
      "KeyboardInterrupt\n",
      "  File \"/media/james/HDD/Linux/Anaconda/lib/python3.6/multiprocessing/synchronize.py\", line 96, in __enter__\n",
      "    return self._semlock.__enter__()\n",
      "KeyboardInterrupt\n",
      "KeyboardInterrupt\n",
      "KeyboardInterrupt\n"
     ]
    }
   ],
   "source": [
    "i = 0 \n",
    "\n",
    "pool = multiprocessing.Pool(processes=12)\n",
    "for _ in pool.starmap(DownloadImage, iterlist):\n",
    "    i += 1\n",
    "    if i % 1000 == 0:\n",
    "        print(i)"
   ]
  },
  {
   "cell_type": "markdown",
   "metadata": {},
   "source": [
    "####  Download the test image set"
   ]
  },
  {
   "cell_type": "code",
   "execution_count": null,
   "metadata": {},
   "outputs": [],
   "source": [
    "df = pd.read_json(f\"{PATH}validation.json\")"
   ]
  },
  {
   "cell_type": "markdown",
   "metadata": {},
   "source": [
    "##### Downloading training images ~1 million (will take a long time)"
   ]
  },
  {
   "cell_type": "markdown",
   "metadata": {},
   "source": [
    "The train file has metadata at its begining that prevents pandas from reading it."
   ]
  },
  {
   "cell_type": "code",
   "execution_count": 108,
   "metadata": {},
   "outputs": [
    {
     "data": {
      "text/html": [
       "<div>\n",
       "<style scoped>\n",
       "    .dataframe tbody tr th:only-of-type {\n",
       "        vertical-align: middle;\n",
       "    }\n",
       "\n",
       "    .dataframe tbody tr th {\n",
       "        vertical-align: top;\n",
       "    }\n",
       "\n",
       "    .dataframe thead th {\n",
       "        text-align: right;\n",
       "    }\n",
       "</style>\n",
       "<table border=\"1\" class=\"dataframe\">\n",
       "  <thead>\n",
       "    <tr style=\"text-align: right;\">\n",
       "      <th></th>\n",
       "      <th>imageId</th>\n",
       "      <th>image_url</th>\n",
       "      <th>labels</th>\n",
       "    </tr>\n",
       "  </thead>\n",
       "  <tbody>\n",
       "    <tr>\n",
       "      <th>0</th>\n",
       "      <td>1</td>\n",
       "      <td>https://contestimg.wish.com/api/webimage/570f3...</td>\n",
       "      <td>[95, 66, 137, 70, 20]</td>\n",
       "    </tr>\n",
       "    <tr>\n",
       "      <th>1</th>\n",
       "      <td>2</td>\n",
       "      <td>https://contestimg.wish.com/api/webimage/5468f...</td>\n",
       "      <td>[36, 66, 44, 214, 105, 133]</td>\n",
       "    </tr>\n",
       "    <tr>\n",
       "      <th>2</th>\n",
       "      <td>3</td>\n",
       "      <td>https://contestimg.wish.com/api/webimage/54641...</td>\n",
       "      <td>[170, 66, 97, 153, 105, 138]</td>\n",
       "    </tr>\n",
       "    <tr>\n",
       "      <th>3</th>\n",
       "      <td>4</td>\n",
       "      <td>https://contestimg.wish.com/api/webimage/550b9...</td>\n",
       "      <td>[18, 66, 44, 153, 164]</td>\n",
       "    </tr>\n",
       "    <tr>\n",
       "      <th>4</th>\n",
       "      <td>5</td>\n",
       "      <td>https://contestimg.wish.com/api/webimage/54451...</td>\n",
       "      <td>[189, 66, 176, 137, 153, 74, 181, 171, 138]</td>\n",
       "    </tr>\n",
       "  </tbody>\n",
       "</table>\n",
       "</div>"
      ],
      "text/plain": [
       "  imageId                                          image_url  \\\n",
       "0       1  https://contestimg.wish.com/api/webimage/570f3...   \n",
       "1       2  https://contestimg.wish.com/api/webimage/5468f...   \n",
       "2       3  https://contestimg.wish.com/api/webimage/54641...   \n",
       "3       4  https://contestimg.wish.com/api/webimage/550b9...   \n",
       "4       5  https://contestimg.wish.com/api/webimage/54451...   \n",
       "\n",
       "                                        labels  \n",
       "0                        [95, 66, 137, 70, 20]  \n",
       "1                  [36, 66, 44, 214, 105, 133]  \n",
       "2                 [170, 66, 97, 153, 105, 138]  \n",
       "3                       [18, 66, 44, 153, 164]  \n",
       "4  [189, 66, 176, 137, 153, 74, 181, 171, 138]  "
      ]
     },
     "execution_count": 108,
     "metadata": {},
     "output_type": "execute_result"
    }
   ],
   "source": [
    "file = '/media/james/HDD/Data_sets/iMaterialist/train.json'\n",
    "\n",
    "js = json.load(open(file))\n",
    "\n",
    "labeldf = pd.DataFrame(js['annotations'])\n",
    "imagedf = pd.DataFrame(js['images'])\n",
    "df = imagedf.merge(labeldf)\n",
    "df.columns = ['imageId', 'image_url', 'labels']\n",
    "df.head()"
   ]
  },
  {
   "cell_type": "code",
   "execution_count": 113,
   "metadata": {},
   "outputs": [
    {
     "data": {
      "text/plain": [
       "(1014544, 3)"
      ]
     },
     "execution_count": 113,
     "metadata": {},
     "output_type": "execute_result"
    }
   ],
   "source": [
    "df.shape"
   ]
  },
  {
   "cell_type": "code",
   "execution_count": 109,
   "metadata": {},
   "outputs": [],
   "source": [
    "save_dir = \"/media/james/HDD/Data_sets/iMaterialist/train\""
   ]
  },
  {
   "cell_type": "code",
   "execution_count": 110,
   "metadata": {},
   "outputs": [],
   "source": [
    "iterlist = []\n",
    "for row in df.itertuples():\n",
    "    iterlist.append((row.imageId, row.image_url))"
   ]
  },
  {
   "cell_type": "code",
   "execution_count": 116,
   "metadata": {},
   "outputs": [
    {
     "name": "stdout",
     "output_type": "stream",
     "text": [
      "100000\n",
      "200000\n",
      "300000\n",
      "400000\n",
      "500000\n",
      "600000\n",
      "700000\n",
      "800000\n",
      "900000\n",
      "1000000\n"
     ]
    }
   ],
   "source": [
    "i = 0 \n",
    "\n",
    "pool = multiprocessing.Pool(processes=12)\n",
    "for _ in pool.starmap(DownloadImage, iterlist):\n",
    "    i += 1\n",
    "    if i % 100000 == 0:\n",
    "        print(i)"
   ]
  },
  {
   "cell_type": "code",
   "execution_count": null,
   "metadata": {},
   "outputs": [],
   "source": []
  }
 ],
 "metadata": {
  "kernelspec": {
   "display_name": "Python 3",
   "language": "python",
   "name": "python3"
  },
  "language_info": {
   "codemirror_mode": {
    "name": "ipython",
    "version": 3
   },
   "file_extension": ".py",
   "mimetype": "text/x-python",
   "name": "python",
   "nbconvert_exporter": "python",
   "pygments_lexer": "ipython3",
   "version": "3.6.5"
  }
 },
 "nbformat": 4,
 "nbformat_minor": 2
}

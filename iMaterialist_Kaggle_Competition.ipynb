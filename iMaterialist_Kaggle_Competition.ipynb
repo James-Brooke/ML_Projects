{
 "cells": [
  {
   "cell_type": "markdown",
   "metadata": {},
   "source": [
    "# iMaterialist_Kaggle_Competition"
   ]
  },
  {
   "cell_type": "markdown",
   "metadata": {},
   "source": [
    "https://www.kaggle.com/c/imaterialist-challenge-fashion-2018"
   ]
  },
  {
   "cell_type": "code",
   "execution_count": null,
   "metadata": {},
   "outputs": [],
   "source": [
    "import sys, os, multiprocessing, urllib3, csv\n",
    "from PIL import Image\n",
    "from io import BytesIO\n",
    "import pandas as pd"
   ]
  },
  {
   "cell_type": "markdown",
   "metadata": {},
   "source": [
    "Dataset is provided as a list of urls. First step is to get all the images."
   ]
  },
  {
   "cell_type": "markdown",
   "metadata": {},
   "source": [
    "#### Downloading validation images"
   ]
  },
  {
   "cell_type": "code",
   "execution_count": null,
   "metadata": {},
   "outputs": [],
   "source": [
    "PATH = \"/media/james/HDD/Data_sets/iMaterialist/jsonfiles/\""
   ]
  },
  {
   "cell_type": "code",
   "execution_count": null,
   "metadata": {},
   "outputs": [],
   "source": [
    "df = pd.read_json(f\"{PATH}validation.json\")"
   ]
  },
  {
   "cell_type": "code",
   "execution_count": null,
   "metadata": {},
   "outputs": [],
   "source": [
    "def anno_checker(anno):\n",
    "    known = ['labelId', 'imageId']\n",
    "    for key in anno.keys():\n",
    "        if key not in known: \n",
    "            return 1"
   ]
  },
  {
   "cell_type": "code",
   "execution_count": null,
   "metadata": {},
   "outputs": [],
   "source": [
    "df.annotations.apply(anno_checker).sum() #annotations only contain ids and labels"
   ]
  },
  {
   "cell_type": "code",
   "execution_count": null,
   "metadata": {},
   "outputs": [],
   "source": [
    "def anno_puller(anno):\n",
    "    return [int(label) for label in anno['labelId']]"
   ]
  },
  {
   "cell_type": "code",
   "execution_count": null,
   "metadata": {},
   "outputs": [],
   "source": [
    "df['annos'] = df.annotations.apply(anno_puller) #sort nested dicts to columns\n",
    "df['annos_id'] = df.annotations.apply(lambda x: x['imageId'])\n",
    "df['image_id'] = df.images.apply(lambda x: x['imageId'])\n",
    "df['image_url'] = df.images.apply(lambda x: x['url'])"
   ]
  },
  {
   "cell_type": "code",
   "execution_count": null,
   "metadata": {},
   "outputs": [],
   "source": [
    "df.head()"
   ]
  },
  {
   "cell_type": "code",
   "execution_count": null,
   "metadata": {},
   "outputs": [],
   "source": [
    "(df.annos_id == df.image_id).all() #all image urls and labels match"
   ]
  },
  {
   "cell_type": "code",
   "execution_count": null,
   "metadata": {},
   "outputs": [],
   "source": [
    "df.drop(['annotations','images','annos_id'], axis=1, inplace=True)"
   ]
  },
  {
   "cell_type": "code",
   "execution_count": null,
   "metadata": {},
   "outputs": [],
   "source": [
    "df.head()"
   ]
  },
  {
   "cell_type": "code",
   "execution_count": null,
   "metadata": {},
   "outputs": [],
   "source": [
    "labelcsv = df[['image_id','annos']].copy() #create a csv of labels for fastai\n",
    "labelcsv.iloc[:,1] = labelcsv['annos']\\\n",
    ".apply(lambda x: \"\".join(str(x))\\\n",
    ".replace(\",\",\"\")\\\n",
    ".replace(\"[\", \"\")\\\n",
    ".replace(\"]\", \"\"))"
   ]
  },
  {
   "cell_type": "code",
   "execution_count": null,
   "metadata": {},
   "outputs": [],
   "source": [
    "labelcsv.head()"
   ]
  },
  {
   "cell_type": "code",
   "execution_count": null,
   "metadata": {},
   "outputs": [],
   "source": [
    "labelcsv.to_csv(\"/media/james/HDD/Data_sets/iMaterialist/train_labels.csv\",index=False, header=False)"
   ]
  },
  {
   "cell_type": "code",
   "execution_count": null,
   "metadata": {},
   "outputs": [],
   "source": [
    "save_dir = \"/media/james/HDD/Data_sets/iMaterialist/\""
   ]
  },
  {
   "cell_type": "code",
   "execution_count": null,
   "metadata": {},
   "outputs": [],
   "source": [
    "client = urllib3.PoolManager(500) #multiple requests\n",
    "urllib3.disable_warnings(urllib3.exceptions.InsecureRequestWarning)"
   ]
  },
  {
   "cell_type": "code",
   "execution_count": null,
   "metadata": {},
   "outputs": [],
   "source": [
    "def DownloadImage(img_id, url):\n",
    "    fname = os.path.join(save_dir, f'{img_id}.jpg')\n",
    "    \n",
    "    if os.path.exists(fname):\n",
    "        return\n",
    "    \n",
    "    try:\n",
    "        global client\n",
    "        response = client.request('GET', url)\n",
    "        img = response.data\n",
    "    except: \n",
    "        print(f'download failed: {img_id}')\n",
    "        \n",
    "    try:\n",
    "        pil_img = Image.open(BytesIO(img))\n",
    "    except:\n",
    "        print(f'PIL failed: {img_id}')\n",
    "        \n",
    "    try:\n",
    "        img_rgb = pil_img.convert('RGB')\n",
    "    except:\n",
    "        print(f'RGB failed: {img_id}')\n",
    "        \n",
    "    try:\n",
    "        img_rgb.save(fname, format='JPEG', quality=90)\n",
    "    except:\n",
    "        print(f'save failed: {img_id}')"
   ]
  },
  {
   "cell_type": "code",
   "execution_count": null,
   "metadata": {},
   "outputs": [],
   "source": [
    "iterlist = []\n",
    "for row in df.itertuples():\n",
    "    iterlist.append((row.image_id, row.image_url))"
   ]
  },
  {
   "cell_type": "code",
   "execution_count": null,
   "metadata": {},
   "outputs": [],
   "source": [
    "i = 0 \n",
    "\n",
    "pool = multiprocessing.Pool(processes=12)\n",
    "for _ in pool.starmap(DownloadImage, iterlist):\n",
    "    i += 1\n",
    "    if i % 1000 == 0:\n",
    "        print(i)"
   ]
  },
  {
   "cell_type": "markdown",
   "metadata": {},
   "source": [
    "####  Download the test image set"
   ]
  },
  {
   "cell_type": "code",
   "execution_count": null,
   "metadata": {},
   "outputs": [],
   "source": [
    "df = pd.read_json(f\"{PATH}test.json\")"
   ]
  },
  {
   "cell_type": "code",
   "execution_count": null,
   "metadata": {},
   "outputs": [],
   "source": [
    "df.head()"
   ]
  },
  {
   "cell_type": "code",
   "execution_count": null,
   "metadata": {},
   "outputs": [],
   "source": [
    "df['image_id'] = df['images'].apply(lambda x: str(x['imageId']))\n",
    "df['image_url'] = df['images'].apply(lambda x: x['url'])\n",
    "df = df[['image_id', 'image_url']]"
   ]
  },
  {
   "cell_type": "code",
   "execution_count": null,
   "metadata": {},
   "outputs": [],
   "source": [
    "df.head()"
   ]
  },
  {
   "cell_type": "code",
   "execution_count": null,
   "metadata": {},
   "outputs": [],
   "source": [
    "iterlist = []\n",
    "for row in df.itertuples():\n",
    "    iterlist.append((row.image_id, row.image_url))"
   ]
  },
  {
   "cell_type": "code",
   "execution_count": null,
   "metadata": {},
   "outputs": [],
   "source": [
    "save_dir = \"/media/james/HDD/Data_sets/iMaterialist/test\""
   ]
  },
  {
   "cell_type": "code",
   "execution_count": null,
   "metadata": {},
   "outputs": [],
   "source": [
    "len(iterlist)"
   ]
  },
  {
   "cell_type": "code",
   "execution_count": null,
   "metadata": {
    "scrolled": true
   },
   "outputs": [],
   "source": [
    "i = 0 \n",
    "\n",
    "pool = multiprocessing.Pool(processes=12)\n",
    "for _ in pool.starmap(DownloadImage, iterlist):\n",
    "    i += 1\n",
    "    if i % 1000 == 0:\n",
    "        print(i)"
   ]
  },
  {
   "cell_type": "markdown",
   "metadata": {},
   "source": [
    "##### Downloading training images ~1 million (will take a long time)"
   ]
  },
  {
   "cell_type": "markdown",
   "metadata": {},
   "source": [
    "The train file has metadata at its begining that prevents pandas from reading it."
   ]
  },
  {
   "cell_type": "code",
   "execution_count": null,
   "metadata": {},
   "outputs": [],
   "source": [
    "file = '/media/james/HDD/Data_sets/iMaterialist/train.json'\n",
    "\n",
    "js = json.load(open(file))\n",
    "\n",
    "labeldf = pd.DataFrame(js['annotations'])\n",
    "imagedf = pd.DataFrame(js['images'])\n",
    "df = imagedf.merge(labeldf)\n",
    "df.columns = ['imageId', 'image_url', 'labels']\n",
    "df.head()"
   ]
  },
  {
   "cell_type": "code",
   "execution_count": null,
   "metadata": {},
   "outputs": [],
   "source": [
    "df.shape"
   ]
  },
  {
   "cell_type": "code",
   "execution_count": null,
   "metadata": {},
   "outputs": [],
   "source": [
    "save_dir = \"/media/james/HDD/Data_sets/iMaterialist/train\""
   ]
  },
  {
   "cell_type": "code",
   "execution_count": null,
   "metadata": {},
   "outputs": [],
   "source": [
    "iterlist = []\n",
    "for row in df.itertuples():\n",
    "    iterlist.append((row.imageId, row.image_url))"
   ]
  },
  {
   "cell_type": "code",
   "execution_count": null,
   "metadata": {},
   "outputs": [],
   "source": [
    "i = 0 \n",
    "\n",
    "pool = multiprocessing.Pool(processes=12)\n",
    "for _ in pool.starmap(DownloadImage, iterlist):\n",
    "    i += 1\n",
    "    if i % 100000 == 0:\n",
    "        print(i)"
   ]
  }
 ],
 "metadata": {
  "kernelspec": {
   "display_name": "Python 3",
   "language": "python",
   "name": "python3"
  },
  "language_info": {
   "codemirror_mode": {
    "name": "ipython",
    "version": 3
   },
   "file_extension": ".py",
   "mimetype": "text/x-python",
   "name": "python",
   "nbconvert_exporter": "python",
   "pygments_lexer": "ipython3",
   "version": "3.6.5"
  }
 },
 "nbformat": 4,
 "nbformat_minor": 2
}

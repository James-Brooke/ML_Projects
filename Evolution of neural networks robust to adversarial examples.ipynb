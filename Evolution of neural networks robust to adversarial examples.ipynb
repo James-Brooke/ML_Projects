{
 "cells": [
  {
   "cell_type": "markdown",
   "metadata": {},
   "source": [
    "# Evolution of neural networks robust to adversarial examples"
   ]
  },
  {
   "cell_type": "markdown",
   "metadata": {
    "heading_collapsed": true
   },
   "source": [
    "# Setup"
   ]
  },
  {
   "cell_type": "code",
   "execution_count": 10,
   "metadata": {
    "collapsed": false,
    "hidden": true
   },
   "outputs": [],
   "source": [
    "%matplotlib inline \n",
    "\n",
    "import numpy as np\n",
    "import keras\n",
    "import tensorflow as tf\n",
    "import matplotlib.pyplot as plt\n",
    "\n",
    "from keras import backend as K\n",
    "from keras.utils.vis_utils import model_to_dot\n",
    "from keras.utils import plot_model\n",
    "from keras.models import Sequential\n",
    "from keras.utils import np_utils\n",
    "from keras.layers import Dense, Activation, Flatten\n",
    "from keras.layers import Conv2D\n",
    "\n",
    "from cleverhans.utils_mnist import data_mnist\n",
    "from cleverhans.utils_tf import model_train, model_eval\n",
    "from cleverhans.attacks import FastGradientMethod\n",
    "from cleverhans.utils import AccuracyReport\n",
    "from cleverhans.utils_keras import KerasModelWrapper\n",
    "\n",
    "from IPython.display import SVG"
   ]
  },
  {
   "cell_type": "code",
   "execution_count": null,
   "metadata": {
    "collapsed": true,
    "hidden": true
   },
   "outputs": [],
   "source": [
    "import warnings\n",
    "from distutils.version import LooseVersion\n",
    "import keras\n",
    "from keras.utils import np_utils\n",
    "from keras.models import Sequential\n",
    "from keras.layers import Dense, Activation, Flatten\n",
    "from .model import Model\n",
    "\n",
    "if LooseVersion(keras.__version__) >= LooseVersion('2.0.0'):\n",
    "    from keras.layers import Conv2D\n",
    "else:\n",
    "    from keras.layers import Convolution2D"
   ]
  },
  {
   "cell_type": "code",
   "execution_count": 2,
   "metadata": {
    "collapsed": true,
    "hidden": true
   },
   "outputs": [],
   "source": [
    "#hyperparams\n",
    "train_start=0\n",
    "train_end=60000\n",
    "test_start=0\n",
    "test_end=10000\n",
    "nb_epochs=6\n",
    "batch_size=128\n",
    "learning_rate=0.001\n",
    "train_dir=r\"D:\\Models\\Adversarial\"\n",
    "filename=\"mnist.ckpt\"\n",
    "load_model=True\n",
    "testing=False"
   ]
  },
  {
   "cell_type": "code",
   "execution_count": 3,
   "metadata": {
    "collapsed": false,
    "hidden": true
   },
   "outputs": [],
   "source": [
    "keras.layers.core.K.set_learning_phase(0)\n",
    "report = AccuracyReport()\n",
    "tf.set_random_seed(1234)\n",
    "sess = tf.Session()\n",
    "K.set_session(sess)"
   ]
  },
  {
   "cell_type": "code",
   "execution_count": 4,
   "metadata": {
    "collapsed": false,
    "hidden": true
   },
   "outputs": [
    {
     "name": "stdout",
     "output_type": "stream",
     "text": [
      "Extracting /tmp/train-images-idx3-ubyte.gz\n",
      "Extracting /tmp/train-labels-idx1-ubyte.gz\n",
      "Extracting /tmp/t10k-images-idx3-ubyte.gz\n",
      "Extracting /tmp/t10k-labels-idx1-ubyte.gz\n",
      "X_train shape: (60000, 28, 28, 1)\n",
      "X_test shape: (10000, 28, 28, 1)\n"
     ]
    }
   ],
   "source": [
    "# Get MNIST test data\n",
    "X_train, Y_train, X_test, Y_test = data_mnist(train_start=train_start,\n",
    "                                              train_end=train_end,\n",
    "                                              test_start=test_start,\n",
    "                                              test_end=test_end)"
   ]
  },
  {
   "cell_type": "code",
   "execution_count": 5,
   "metadata": {
    "collapsed": true,
    "hidden": true
   },
   "outputs": [],
   "source": [
    "# Use label smoothing\n",
    "assert Y_train.shape[1] == 10\n",
    "label_smooth = .1\n",
    "Y_train = Y_train.clip(label_smooth / 9., 1. - label_smooth)"
   ]
  },
  {
   "cell_type": "code",
   "execution_count": 6,
   "metadata": {
    "collapsed": true,
    "hidden": true
   },
   "outputs": [],
   "source": [
    "# Define input TF placeholder\n",
    "x = tf.placeholder(tf.float32, shape=(None, 28, 28, 1))\n",
    "y = tf.placeholder(tf.float32, shape=(None, 10))"
   ]
  },
  {
   "cell_type": "code",
   "execution_count": 13,
   "metadata": {
    "collapsed": true,
    "hidden": true
   },
   "outputs": [],
   "source": [
    "def conv_2d(filters, kernel_shape, strides, padding, input_shape=None):\n",
    "    \"\"\"\n",
    "    :param filters: (required integer) the dimensionality of the output\n",
    "                    space (i.e. the number output of filters in the\n",
    "                    convolution)\n",
    "    :param kernel_shape: (required tuple or list of 2 integers) specifies\n",
    "                         the strides of the convolution along the width and\n",
    "                         height.\n",
    "    :param padding: (required string) can be either 'valid' (no padding around\n",
    "                    input or feature map) or 'same' (pad to ensure that the\n",
    "                    output feature map size is identical to the layer input)\n",
    "    :param input_shape: (optional) give input shape if this is the first\n",
    "                        layer of the model\n",
    "    :return: the Keras layer\n",
    "    \"\"\"\n",
    "    \n",
    "    if input_shape is not None:\n",
    "        return Conv2D(filters=filters, kernel_size=kernel_shape,\n",
    "                      strides=strides, padding=padding,\n",
    "                      input_shape=input_shape)\n",
    "    else:\n",
    "        return Conv2D(filters=filters, kernel_size=kernel_shape,\n",
    "                      strides=strides, padding=padding)\n"
   ]
  },
  {
   "cell_type": "code",
   "execution_count": 14,
   "metadata": {
    "collapsed": true,
    "hidden": true
   },
   "outputs": [],
   "source": [
    "def cnn_model(logits=False, input_ph=None, img_rows=28, img_cols=28,\n",
    "              channels=1, nb_filters=64, nb_classes=10):\n",
    "    \"\"\"\n",
    "    Defines a CNN model using Keras sequential model\n",
    "    :param logits: If set to False, returns a Keras model, otherwise will also\n",
    "                    return logits tensor\n",
    "    :param input_ph: The TensorFlow tensor for the input\n",
    "                    (needed if returning logits)\n",
    "                    (\"ph\" stands for placeholder but it need not actually be a\n",
    "                    placeholder)\n",
    "    :param img_rows: number of row in the image\n",
    "    :param img_cols: number of columns in the image\n",
    "    :param channels: number of color channels (e.g., 1 for MNIST)\n",
    "    :param nb_filters: number of convolutional filters per layer\n",
    "    :param nb_classes: the number of output classes\n",
    "    :return:\n",
    "    \"\"\"\n",
    "    model = Sequential()\n",
    "\n",
    "    # Define the layers successively (convolution layers are version dependent)\n",
    "    if K.image_dim_ordering() == 'th':\n",
    "        input_shape = (channels, img_rows, img_cols)\n",
    "    else:\n",
    "        input_shape = (img_rows, img_cols, channels)\n",
    "\n",
    "    layers = [conv_2d(nb_filters, (8, 8), (2, 2), \"same\",\n",
    "                      input_shape=input_shape),\n",
    "              Activation('relu'),\n",
    "              conv_2d((nb_filters * 2), (6, 6), (2, 2), \"valid\"),\n",
    "              Activation('relu'),\n",
    "              conv_2d((nb_filters * 2), (5, 5), (1, 1), \"valid\"),\n",
    "              Activation('relu'),\n",
    "              Flatten(),\n",
    "              Dense(nb_classes)]\n",
    "\n",
    "    for layer in layers:\n",
    "        model.add(layer)\n",
    "\n",
    "    if logits:\n",
    "        logits_tensor = model(input_ph)\n",
    "    model.add(Activation('softmax'))\n",
    "\n",
    "    if logits:\n",
    "        return model, logits_tensor\n",
    "    else:\n",
    "        return model"
   ]
  },
  {
   "cell_type": "code",
   "execution_count": 15,
   "metadata": {
    "collapsed": false,
    "hidden": true
   },
   "outputs": [],
   "source": [
    "# Define TF model graph\n",
    "model = cnn_model()\n",
    "preds = model(x)"
   ]
  },
  {
   "cell_type": "code",
   "execution_count": 16,
   "metadata": {
    "collapsed": false,
    "hidden": true
   },
   "outputs": [
    {
     "name": "stdout",
     "output_type": "stream",
     "text": [
      "_________________________________________________________________\n",
      "Layer (type)                 Output Shape              Param #   \n",
      "=================================================================\n",
      "conv2d_1 (Conv2D)            (None, 14, 14, 64)        4160      \n",
      "_________________________________________________________________\n",
      "activation_1 (Activation)    (None, 14, 14, 64)        0         \n",
      "_________________________________________________________________\n",
      "conv2d_2 (Conv2D)            (None, 5, 5, 128)         295040    \n",
      "_________________________________________________________________\n",
      "activation_2 (Activation)    (None, 5, 5, 128)         0         \n",
      "_________________________________________________________________\n",
      "conv2d_3 (Conv2D)            (None, 1, 1, 128)         409728    \n",
      "_________________________________________________________________\n",
      "activation_3 (Activation)    (None, 1, 1, 128)         0         \n",
      "_________________________________________________________________\n",
      "flatten_1 (Flatten)          (None, 128)               0         \n",
      "_________________________________________________________________\n",
      "dense_1 (Dense)              (None, 10)                1290      \n",
      "_________________________________________________________________\n",
      "activation_4 (Activation)    (None, 10)                0         \n",
      "=================================================================\n",
      "Total params: 710,218\n",
      "Trainable params: 710,218\n",
      "Non-trainable params: 0\n",
      "_________________________________________________________________\n"
     ]
    }
   ],
   "source": [
    "model.summary()"
   ]
  },
  {
   "cell_type": "code",
   "execution_count": 17,
   "metadata": {
    "collapsed": false,
    "hidden": true,
    "scrolled": false
   },
   "outputs": [
    {
     "data": {
      "image/svg+xml": [
       "<svg height=\"802pt\" viewBox=\"0.00 0.00 352.00 802.00\" width=\"352pt\" xmlns=\"http://www.w3.org/2000/svg\" xmlns:xlink=\"http://www.w3.org/1999/xlink\">\n",
       "<g class=\"graph\" id=\"graph0\" transform=\"scale(1 1) rotate(0) translate(4 798)\">\n",
       "<title>G</title>\n",
       "<polygon fill=\"white\" points=\"-4,4 -4,-798 348,-798 348,4 -4,4\" stroke=\"none\"/>\n",
       "<!-- 2713535688600 -->\n",
       "<g class=\"node\" id=\"node1\"><title>2713535688600</title>\n",
       "<polygon fill=\"none\" points=\"0,-747.5 0,-793.5 344,-793.5 344,-747.5 0,-747.5\" stroke=\"black\"/>\n",
       "<text font-family=\"Times New Roman,serif\" font-size=\"14.00\" text-anchor=\"middle\" x=\"88\" y=\"-766.8\">conv2d_1_input: InputLayer</text>\n",
       "<polyline fill=\"none\" points=\"176,-747.5 176,-793.5 \" stroke=\"black\"/>\n",
       "<text font-family=\"Times New Roman,serif\" font-size=\"14.00\" text-anchor=\"middle\" x=\"204\" y=\"-778.3\">input:</text>\n",
       "<polyline fill=\"none\" points=\"176,-770.5 232,-770.5 \" stroke=\"black\"/>\n",
       "<text font-family=\"Times New Roman,serif\" font-size=\"14.00\" text-anchor=\"middle\" x=\"204\" y=\"-755.3\">output:</text>\n",
       "<polyline fill=\"none\" points=\"232,-747.5 232,-793.5 \" stroke=\"black\"/>\n",
       "<text font-family=\"Times New Roman,serif\" font-size=\"14.00\" text-anchor=\"middle\" x=\"288\" y=\"-778.3\">(None, 28, 28, 1)</text>\n",
       "<polyline fill=\"none\" points=\"232,-770.5 344,-770.5 \" stroke=\"black\"/>\n",
       "<text font-family=\"Times New Roman,serif\" font-size=\"14.00\" text-anchor=\"middle\" x=\"288\" y=\"-755.3\">(None, 28, 28, 1)</text>\n",
       "</g>\n",
       "<!-- 2713535687032 -->\n",
       "<g class=\"node\" id=\"node2\"><title>2713535687032</title>\n",
       "<polygon fill=\"none\" points=\"21,-664.5 21,-710.5 323,-710.5 323,-664.5 21,-664.5\" stroke=\"black\"/>\n",
       "<text font-family=\"Times New Roman,serif\" font-size=\"14.00\" text-anchor=\"middle\" x=\"84.5\" y=\"-683.8\">conv2d_1: Conv2D</text>\n",
       "<polyline fill=\"none\" points=\"148,-664.5 148,-710.5 \" stroke=\"black\"/>\n",
       "<text font-family=\"Times New Roman,serif\" font-size=\"14.00\" text-anchor=\"middle\" x=\"176\" y=\"-695.3\">input:</text>\n",
       "<polyline fill=\"none\" points=\"148,-687.5 204,-687.5 \" stroke=\"black\"/>\n",
       "<text font-family=\"Times New Roman,serif\" font-size=\"14.00\" text-anchor=\"middle\" x=\"176\" y=\"-672.3\">output:</text>\n",
       "<polyline fill=\"none\" points=\"204,-664.5 204,-710.5 \" stroke=\"black\"/>\n",
       "<text font-family=\"Times New Roman,serif\" font-size=\"14.00\" text-anchor=\"middle\" x=\"263.5\" y=\"-695.3\">(None, 28, 28, 1)</text>\n",
       "<polyline fill=\"none\" points=\"204,-687.5 323,-687.5 \" stroke=\"black\"/>\n",
       "<text font-family=\"Times New Roman,serif\" font-size=\"14.00\" text-anchor=\"middle\" x=\"263.5\" y=\"-672.3\">(None, 14, 14, 64)</text>\n",
       "</g>\n",
       "<!-- 2713535688600&#45;&gt;2713535687032 -->\n",
       "<g class=\"edge\" id=\"edge1\"><title>2713535688600-&gt;2713535687032</title>\n",
       "<path d=\"M172,-747.366C172,-739.152 172,-729.658 172,-720.725\" fill=\"none\" stroke=\"black\"/>\n",
       "<polygon fill=\"black\" points=\"175.5,-720.607 172,-710.607 168.5,-720.607 175.5,-720.607\" stroke=\"black\"/>\n",
       "</g>\n",
       "<!-- 2713535686248 -->\n",
       "<g class=\"node\" id=\"node3\"><title>2713535686248</title>\n",
       "<polygon fill=\"none\" points=\"10.5,-581.5 10.5,-627.5 333.5,-627.5 333.5,-581.5 10.5,-581.5\" stroke=\"black\"/>\n",
       "<text font-family=\"Times New Roman,serif\" font-size=\"14.00\" text-anchor=\"middle\" x=\"84.5\" y=\"-600.8\">activation_1: Activation</text>\n",
       "<polyline fill=\"none\" points=\"158.5,-581.5 158.5,-627.5 \" stroke=\"black\"/>\n",
       "<text font-family=\"Times New Roman,serif\" font-size=\"14.00\" text-anchor=\"middle\" x=\"186.5\" y=\"-612.3\">input:</text>\n",
       "<polyline fill=\"none\" points=\"158.5,-604.5 214.5,-604.5 \" stroke=\"black\"/>\n",
       "<text font-family=\"Times New Roman,serif\" font-size=\"14.00\" text-anchor=\"middle\" x=\"186.5\" y=\"-589.3\">output:</text>\n",
       "<polyline fill=\"none\" points=\"214.5,-581.5 214.5,-627.5 \" stroke=\"black\"/>\n",
       "<text font-family=\"Times New Roman,serif\" font-size=\"14.00\" text-anchor=\"middle\" x=\"274\" y=\"-612.3\">(None, 14, 14, 64)</text>\n",
       "<polyline fill=\"none\" points=\"214.5,-604.5 333.5,-604.5 \" stroke=\"black\"/>\n",
       "<text font-family=\"Times New Roman,serif\" font-size=\"14.00\" text-anchor=\"middle\" x=\"274\" y=\"-589.3\">(None, 14, 14, 64)</text>\n",
       "</g>\n",
       "<!-- 2713535687032&#45;&gt;2713535686248 -->\n",
       "<g class=\"edge\" id=\"edge2\"><title>2713535687032-&gt;2713535686248</title>\n",
       "<path d=\"M172,-664.366C172,-656.152 172,-646.658 172,-637.725\" fill=\"none\" stroke=\"black\"/>\n",
       "<polygon fill=\"black\" points=\"175.5,-637.607 172,-627.607 168.5,-637.607 175.5,-637.607\" stroke=\"black\"/>\n",
       "</g>\n",
       "<!-- 2713535686416 -->\n",
       "<g class=\"node\" id=\"node4\"><title>2713535686416</title>\n",
       "<polygon fill=\"none\" points=\"21,-498.5 21,-544.5 323,-544.5 323,-498.5 21,-498.5\" stroke=\"black\"/>\n",
       "<text font-family=\"Times New Roman,serif\" font-size=\"14.00\" text-anchor=\"middle\" x=\"84.5\" y=\"-517.8\">conv2d_2: Conv2D</text>\n",
       "<polyline fill=\"none\" points=\"148,-498.5 148,-544.5 \" stroke=\"black\"/>\n",
       "<text font-family=\"Times New Roman,serif\" font-size=\"14.00\" text-anchor=\"middle\" x=\"176\" y=\"-529.3\">input:</text>\n",
       "<polyline fill=\"none\" points=\"148,-521.5 204,-521.5 \" stroke=\"black\"/>\n",
       "<text font-family=\"Times New Roman,serif\" font-size=\"14.00\" text-anchor=\"middle\" x=\"176\" y=\"-506.3\">output:</text>\n",
       "<polyline fill=\"none\" points=\"204,-498.5 204,-544.5 \" stroke=\"black\"/>\n",
       "<text font-family=\"Times New Roman,serif\" font-size=\"14.00\" text-anchor=\"middle\" x=\"263.5\" y=\"-529.3\">(None, 14, 14, 64)</text>\n",
       "<polyline fill=\"none\" points=\"204,-521.5 323,-521.5 \" stroke=\"black\"/>\n",
       "<text font-family=\"Times New Roman,serif\" font-size=\"14.00\" text-anchor=\"middle\" x=\"263.5\" y=\"-506.3\">(None, 5, 5, 128)</text>\n",
       "</g>\n",
       "<!-- 2713535686248&#45;&gt;2713535686416 -->\n",
       "<g class=\"edge\" id=\"edge3\"><title>2713535686248-&gt;2713535686416</title>\n",
       "<path d=\"M172,-581.366C172,-573.152 172,-563.658 172,-554.725\" fill=\"none\" stroke=\"black\"/>\n",
       "<polygon fill=\"black\" points=\"175.5,-554.607 172,-544.607 168.5,-554.607 175.5,-554.607\" stroke=\"black\"/>\n",
       "</g>\n",
       "<!-- 2713535686752 -->\n",
       "<g class=\"node\" id=\"node5\"><title>2713535686752</title>\n",
       "<polygon fill=\"none\" points=\"14,-415.5 14,-461.5 330,-461.5 330,-415.5 14,-415.5\" stroke=\"black\"/>\n",
       "<text font-family=\"Times New Roman,serif\" font-size=\"14.00\" text-anchor=\"middle\" x=\"88\" y=\"-434.8\">activation_2: Activation</text>\n",
       "<polyline fill=\"none\" points=\"162,-415.5 162,-461.5 \" stroke=\"black\"/>\n",
       "<text font-family=\"Times New Roman,serif\" font-size=\"14.00\" text-anchor=\"middle\" x=\"190\" y=\"-446.3\">input:</text>\n",
       "<polyline fill=\"none\" points=\"162,-438.5 218,-438.5 \" stroke=\"black\"/>\n",
       "<text font-family=\"Times New Roman,serif\" font-size=\"14.00\" text-anchor=\"middle\" x=\"190\" y=\"-423.3\">output:</text>\n",
       "<polyline fill=\"none\" points=\"218,-415.5 218,-461.5 \" stroke=\"black\"/>\n",
       "<text font-family=\"Times New Roman,serif\" font-size=\"14.00\" text-anchor=\"middle\" x=\"274\" y=\"-446.3\">(None, 5, 5, 128)</text>\n",
       "<polyline fill=\"none\" points=\"218,-438.5 330,-438.5 \" stroke=\"black\"/>\n",
       "<text font-family=\"Times New Roman,serif\" font-size=\"14.00\" text-anchor=\"middle\" x=\"274\" y=\"-423.3\">(None, 5, 5, 128)</text>\n",
       "</g>\n",
       "<!-- 2713535686416&#45;&gt;2713535686752 -->\n",
       "<g class=\"edge\" id=\"edge4\"><title>2713535686416-&gt;2713535686752</title>\n",
       "<path d=\"M172,-498.366C172,-490.152 172,-480.658 172,-471.725\" fill=\"none\" stroke=\"black\"/>\n",
       "<polygon fill=\"black\" points=\"175.5,-471.607 172,-461.607 168.5,-471.607 175.5,-471.607\" stroke=\"black\"/>\n",
       "</g>\n",
       "<!-- 2713535688040 -->\n",
       "<g class=\"node\" id=\"node6\"><title>2713535688040</title>\n",
       "<polygon fill=\"none\" points=\"24.5,-332.5 24.5,-378.5 319.5,-378.5 319.5,-332.5 24.5,-332.5\" stroke=\"black\"/>\n",
       "<text font-family=\"Times New Roman,serif\" font-size=\"14.00\" text-anchor=\"middle\" x=\"88\" y=\"-351.8\">conv2d_3: Conv2D</text>\n",
       "<polyline fill=\"none\" points=\"151.5,-332.5 151.5,-378.5 \" stroke=\"black\"/>\n",
       "<text font-family=\"Times New Roman,serif\" font-size=\"14.00\" text-anchor=\"middle\" x=\"179.5\" y=\"-363.3\">input:</text>\n",
       "<polyline fill=\"none\" points=\"151.5,-355.5 207.5,-355.5 \" stroke=\"black\"/>\n",
       "<text font-family=\"Times New Roman,serif\" font-size=\"14.00\" text-anchor=\"middle\" x=\"179.5\" y=\"-340.3\">output:</text>\n",
       "<polyline fill=\"none\" points=\"207.5,-332.5 207.5,-378.5 \" stroke=\"black\"/>\n",
       "<text font-family=\"Times New Roman,serif\" font-size=\"14.00\" text-anchor=\"middle\" x=\"263.5\" y=\"-363.3\">(None, 5, 5, 128)</text>\n",
       "<polyline fill=\"none\" points=\"207.5,-355.5 319.5,-355.5 \" stroke=\"black\"/>\n",
       "<text font-family=\"Times New Roman,serif\" font-size=\"14.00\" text-anchor=\"middle\" x=\"263.5\" y=\"-340.3\">(None, 1, 1, 128)</text>\n",
       "</g>\n",
       "<!-- 2713535686752&#45;&gt;2713535688040 -->\n",
       "<g class=\"edge\" id=\"edge5\"><title>2713535686752-&gt;2713535688040</title>\n",
       "<path d=\"M172,-415.366C172,-407.152 172,-397.658 172,-388.725\" fill=\"none\" stroke=\"black\"/>\n",
       "<polygon fill=\"black\" points=\"175.5,-388.607 172,-378.607 168.5,-388.607 175.5,-388.607\" stroke=\"black\"/>\n",
       "</g>\n",
       "<!-- 2713535687704 -->\n",
       "<g class=\"node\" id=\"node7\"><title>2713535687704</title>\n",
       "<polygon fill=\"none\" points=\"14,-249.5 14,-295.5 330,-295.5 330,-249.5 14,-249.5\" stroke=\"black\"/>\n",
       "<text font-family=\"Times New Roman,serif\" font-size=\"14.00\" text-anchor=\"middle\" x=\"88\" y=\"-268.8\">activation_3: Activation</text>\n",
       "<polyline fill=\"none\" points=\"162,-249.5 162,-295.5 \" stroke=\"black\"/>\n",
       "<text font-family=\"Times New Roman,serif\" font-size=\"14.00\" text-anchor=\"middle\" x=\"190\" y=\"-280.3\">input:</text>\n",
       "<polyline fill=\"none\" points=\"162,-272.5 218,-272.5 \" stroke=\"black\"/>\n",
       "<text font-family=\"Times New Roman,serif\" font-size=\"14.00\" text-anchor=\"middle\" x=\"190\" y=\"-257.3\">output:</text>\n",
       "<polyline fill=\"none\" points=\"218,-249.5 218,-295.5 \" stroke=\"black\"/>\n",
       "<text font-family=\"Times New Roman,serif\" font-size=\"14.00\" text-anchor=\"middle\" x=\"274\" y=\"-280.3\">(None, 1, 1, 128)</text>\n",
       "<polyline fill=\"none\" points=\"218,-272.5 330,-272.5 \" stroke=\"black\"/>\n",
       "<text font-family=\"Times New Roman,serif\" font-size=\"14.00\" text-anchor=\"middle\" x=\"274\" y=\"-257.3\">(None, 1, 1, 128)</text>\n",
       "</g>\n",
       "<!-- 2713535688040&#45;&gt;2713535687704 -->\n",
       "<g class=\"edge\" id=\"edge6\"><title>2713535688040-&gt;2713535687704</title>\n",
       "<path d=\"M172,-332.366C172,-324.152 172,-314.658 172,-305.725\" fill=\"none\" stroke=\"black\"/>\n",
       "<polygon fill=\"black\" points=\"175.5,-305.607 172,-295.607 168.5,-305.607 175.5,-305.607\" stroke=\"black\"/>\n",
       "</g>\n",
       "<!-- 2713535687536 -->\n",
       "<g class=\"node\" id=\"node8\"><title>2713535687536</title>\n",
       "<polygon fill=\"none\" points=\"33.5,-166.5 33.5,-212.5 310.5,-212.5 310.5,-166.5 33.5,-166.5\" stroke=\"black\"/>\n",
       "<text font-family=\"Times New Roman,serif\" font-size=\"14.00\" text-anchor=\"middle\" x=\"88\" y=\"-185.8\">flatten_1: Flatten</text>\n",
       "<polyline fill=\"none\" points=\"142.5,-166.5 142.5,-212.5 \" stroke=\"black\"/>\n",
       "<text font-family=\"Times New Roman,serif\" font-size=\"14.00\" text-anchor=\"middle\" x=\"170.5\" y=\"-197.3\">input:</text>\n",
       "<polyline fill=\"none\" points=\"142.5,-189.5 198.5,-189.5 \" stroke=\"black\"/>\n",
       "<text font-family=\"Times New Roman,serif\" font-size=\"14.00\" text-anchor=\"middle\" x=\"170.5\" y=\"-174.3\">output:</text>\n",
       "<polyline fill=\"none\" points=\"198.5,-166.5 198.5,-212.5 \" stroke=\"black\"/>\n",
       "<text font-family=\"Times New Roman,serif\" font-size=\"14.00\" text-anchor=\"middle\" x=\"254.5\" y=\"-197.3\">(None, 1, 1, 128)</text>\n",
       "<polyline fill=\"none\" points=\"198.5,-189.5 310.5,-189.5 \" stroke=\"black\"/>\n",
       "<text font-family=\"Times New Roman,serif\" font-size=\"14.00\" text-anchor=\"middle\" x=\"254.5\" y=\"-174.3\">(None, 128)</text>\n",
       "</g>\n",
       "<!-- 2713535687704&#45;&gt;2713535687536 -->\n",
       "<g class=\"edge\" id=\"edge7\"><title>2713535687704-&gt;2713535687536</title>\n",
       "<path d=\"M172,-249.366C172,-241.152 172,-231.658 172,-222.725\" fill=\"none\" stroke=\"black\"/>\n",
       "<polygon fill=\"black\" points=\"175.5,-222.607 172,-212.607 168.5,-222.607 175.5,-222.607\" stroke=\"black\"/>\n",
       "</g>\n",
       "<!-- 2713535687872 -->\n",
       "<g class=\"node\" id=\"node9\"><title>2713535687872</title>\n",
       "<polygon fill=\"none\" points=\"50.5,-83.5 50.5,-129.5 293.5,-129.5 293.5,-83.5 50.5,-83.5\" stroke=\"black\"/>\n",
       "<text font-family=\"Times New Roman,serif\" font-size=\"14.00\" text-anchor=\"middle\" x=\"102.5\" y=\"-102.8\">dense_1: Dense</text>\n",
       "<polyline fill=\"none\" points=\"154.5,-83.5 154.5,-129.5 \" stroke=\"black\"/>\n",
       "<text font-family=\"Times New Roman,serif\" font-size=\"14.00\" text-anchor=\"middle\" x=\"182.5\" y=\"-114.3\">input:</text>\n",
       "<polyline fill=\"none\" points=\"154.5,-106.5 210.5,-106.5 \" stroke=\"black\"/>\n",
       "<text font-family=\"Times New Roman,serif\" font-size=\"14.00\" text-anchor=\"middle\" x=\"182.5\" y=\"-91.3\">output:</text>\n",
       "<polyline fill=\"none\" points=\"210.5,-83.5 210.5,-129.5 \" stroke=\"black\"/>\n",
       "<text font-family=\"Times New Roman,serif\" font-size=\"14.00\" text-anchor=\"middle\" x=\"252\" y=\"-114.3\">(None, 128)</text>\n",
       "<polyline fill=\"none\" points=\"210.5,-106.5 293.5,-106.5 \" stroke=\"black\"/>\n",
       "<text font-family=\"Times New Roman,serif\" font-size=\"14.00\" text-anchor=\"middle\" x=\"252\" y=\"-91.3\">(None, 10)</text>\n",
       "</g>\n",
       "<!-- 2713535687536&#45;&gt;2713535687872 -->\n",
       "<g class=\"edge\" id=\"edge8\"><title>2713535687536-&gt;2713535687872</title>\n",
       "<path d=\"M172,-166.366C172,-158.152 172,-148.658 172,-139.725\" fill=\"none\" stroke=\"black\"/>\n",
       "<polygon fill=\"black\" points=\"175.5,-139.607 172,-129.607 168.5,-139.607 175.5,-139.607\" stroke=\"black\"/>\n",
       "</g>\n",
       "<!-- 2713535688544 -->\n",
       "<g class=\"node\" id=\"node10\"><title>2713535688544</title>\n",
       "<polygon fill=\"none\" points=\"31.5,-0.5 31.5,-46.5 312.5,-46.5 312.5,-0.5 31.5,-0.5\" stroke=\"black\"/>\n",
       "<text font-family=\"Times New Roman,serif\" font-size=\"14.00\" text-anchor=\"middle\" x=\"105.5\" y=\"-19.8\">activation_4: Activation</text>\n",
       "<polyline fill=\"none\" points=\"179.5,-0.5 179.5,-46.5 \" stroke=\"black\"/>\n",
       "<text font-family=\"Times New Roman,serif\" font-size=\"14.00\" text-anchor=\"middle\" x=\"207.5\" y=\"-31.3\">input:</text>\n",
       "<polyline fill=\"none\" points=\"179.5,-23.5 235.5,-23.5 \" stroke=\"black\"/>\n",
       "<text font-family=\"Times New Roman,serif\" font-size=\"14.00\" text-anchor=\"middle\" x=\"207.5\" y=\"-8.3\">output:</text>\n",
       "<polyline fill=\"none\" points=\"235.5,-0.5 235.5,-46.5 \" stroke=\"black\"/>\n",
       "<text font-family=\"Times New Roman,serif\" font-size=\"14.00\" text-anchor=\"middle\" x=\"274\" y=\"-31.3\">(None, 10)</text>\n",
       "<polyline fill=\"none\" points=\"235.5,-23.5 312.5,-23.5 \" stroke=\"black\"/>\n",
       "<text font-family=\"Times New Roman,serif\" font-size=\"14.00\" text-anchor=\"middle\" x=\"274\" y=\"-8.3\">(None, 10)</text>\n",
       "</g>\n",
       "<!-- 2713535687872&#45;&gt;2713535688544 -->\n",
       "<g class=\"edge\" id=\"edge9\"><title>2713535687872-&gt;2713535688544</title>\n",
       "<path d=\"M172,-83.3664C172,-75.1516 172,-65.6579 172,-56.7252\" fill=\"none\" stroke=\"black\"/>\n",
       "<polygon fill=\"black\" points=\"175.5,-56.6068 172,-46.6068 168.5,-56.6069 175.5,-56.6068\" stroke=\"black\"/>\n",
       "</g>\n",
       "</g>\n",
       "</svg>"
      ],
      "text/plain": [
       "<IPython.core.display.SVG object>"
      ]
     },
     "execution_count": 17,
     "metadata": {},
     "output_type": "execute_result"
    }
   ],
   "source": [
    "SVG(model_to_dot(model, show_shapes=True).create(prog='dot', format='svg'))"
   ]
  },
  {
   "cell_type": "code",
   "execution_count": 18,
   "metadata": {
    "collapsed": true,
    "hidden": true
   },
   "outputs": [],
   "source": [
    "def evaluate():\n",
    "    # Evaluate the accuracy of the MNIST model on legitimate test examples\n",
    "    eval_params = {'batch_size': batch_size}\n",
    "    acc = model_eval(sess, x, y, preds, X_test, Y_test, args=eval_params)\n",
    "    report.clean_train_clean_eval = acc\n",
    "    assert X_test.shape[0] == test_end - test_start, X_test.shape\n",
    "    print('Test accuracy on legitimate examples: %0.4f' % acc)"
   ]
  },
  {
   "cell_type": "markdown",
   "metadata": {},
   "source": [
    "# Train "
   ]
  },
  {
   "cell_type": "code",
   "execution_count": null,
   "metadata": {
    "collapsed": false
   },
   "outputs": [],
   "source": [
    "# Train an MNIST model\n",
    "train_params = {\n",
    "    'nb_epochs': nb_epochs,\n",
    "    'batch_size': batch_size,\n",
    "    'learning_rate': learning_rate,\n",
    "    'train_dir': train_dir,\n",
    "    'filename': filename\n",
    "}\n",
    "ckpt = tf.train.get_checkpoint_state(train_dir)\n",
    "ckpt_path = False if ckpt is None else ckpt.model_checkpoint_path\n",
    "\n",
    "rng = np.random.RandomState([2017, 8, 30]) #for shuffling training set\n",
    "\n",
    "if load_model and ckpt_path:\n",
    "    saver = tf.train.Saver()\n",
    "    saver.restore(sess, ckpt_path)\n",
    "    print(\"Model loaded from: {}\".format(ckpt_path))\n",
    "    evaluate()\n",
    "else:\n",
    "    print(\"Model was not loaded, training from scratch.\")\n",
    "    model_train(sess, x, y, preds, X_train, Y_train, evaluate=evaluate,\n",
    "                args=train_params, save=True, rng=rng)"
   ]
  },
  {
   "cell_type": "code",
   "execution_count": null,
   "metadata": {
    "collapsed": true
   },
   "outputs": [],
   "source": [
    "# Calculate training error\n",
    "if testing:\n",
    "    eval_params = {'batch_size': batch_size}\n",
    "    acc = model_eval(sess, x, y, preds, X_train, Y_train, args=eval_params)\n",
    "    report.train_clean_train_clean_eval = acc"
   ]
  },
  {
   "cell_type": "markdown",
   "metadata": {},
   "source": [
    "# FGSM "
   ]
  },
  {
   "cell_type": "code",
   "execution_count": null,
   "metadata": {
    "collapsed": false,
    "scrolled": true
   },
   "outputs": [],
   "source": [
    "# Initialize the Fast Gradient Sign Method (FGSM) attack object and graph\n",
    "wrap = KerasModelWrapper(model)\n",
    "fgsm = FastGradientMethod(wrap, sess=sess)\n",
    "fgsm_params = {'eps': 0.3,\n",
    "               'clip_min': 0.,\n",
    "               'clip_max': 1.}\n",
    "adv_x = fgsm.generate(x, **fgsm_params)"
   ]
  },
  {
   "cell_type": "code",
   "execution_count": null,
   "metadata": {
    "collapsed": false
   },
   "outputs": [],
   "source": [
    "# Consider the attack to be constant\n",
    "adv_x = tf.stop_gradient(adv_x)\n",
    "preds_adv = model(adv_x)"
   ]
  },
  {
   "cell_type": "code",
   "execution_count": null,
   "metadata": {
    "collapsed": true
   },
   "outputs": [],
   "source": [
    "def adv_plotter(index, X_train, fgsm_params, model):\n",
    "    \n",
    "    img = X_train[index]\n",
    "    shape = img.shape\n",
    "    imgr = img.reshape(1, shape[0], shape[1], 1)\n",
    "    adversarial = fgsm.generate_np(imgr, **fgsm_params)\n",
    "    \n",
    "    clean_pred = model.predict(imgr)\n",
    "    clean_perct = np.max(clean_pred)\n",
    "    clean_class = np.argmax(clean_pred)\n",
    "    \n",
    "    adv_pred = model.predict(adversarial)\n",
    "    adv_perct = np.max(adv_pred)\n",
    "    adv_class = np.argmax(adv_pred)\n",
    "    \n",
    "    fig, (ax1, ax2) = plt.subplots(1, 2, figsize=(10,10))\n",
    "    ax1.imshow(img.reshape(28,28), cmap='Greys')\n",
    "    ax1.text(x=2, y=32, s=\"Predicted: {x:.0f} ({y:.2f})\".format(x=clean_class, y=clean_perct), fontsize=20)\n",
    "    ax2.imshow(adversarial.reshape(28,28), cmap='Greys')\n",
    "    ax2.text(x=2, y=32, s=\"Predicted: {x:.0f} ({y:.2f})\".format(x=adv_class, y=adv_perct), fontsize=20)"
   ]
  },
  {
   "cell_type": "code",
   "execution_count": null,
   "metadata": {
    "collapsed": false,
    "scrolled": true
   },
   "outputs": [],
   "source": [
    "adv_plotter(2, X_train, fgsm_params, model)"
   ]
  },
  {
   "cell_type": "code",
   "execution_count": null,
   "metadata": {
    "collapsed": true
   },
   "outputs": [],
   "source": []
  },
  {
   "cell_type": "code",
   "execution_count": null,
   "metadata": {
    "collapsed": true
   },
   "outputs": [],
   "source": []
  },
  {
   "cell_type": "code",
   "execution_count": null,
   "metadata": {
    "collapsed": true
   },
   "outputs": [],
   "source": []
  },
  {
   "cell_type": "code",
   "execution_count": null,
   "metadata": {
    "collapsed": false
   },
   "outputs": [],
   "source": [
    "grads = K.gradients(four_output, last_conv_layer.output)[0]\n",
    "#pooled_grads = K.mean(grads, axis=(0, 1, 2))\n",
    "#iterate = K.function([model.input], [pooled_grads, last_conv_layer.output[0]])\n",
    "\n",
    "iterate = K.function([model.get_input_at(0)], [grads, last_conv_layer.output[0]])"
   ]
  },
  {
   "cell_type": "code",
   "execution_count": null,
   "metadata": {
    "collapsed": false
   },
   "outputs": [],
   "source": [
    "model.get_input_at(0)"
   ]
  },
  {
   "cell_type": "code",
   "execution_count": null,
   "metadata": {
    "collapsed": false
   },
   "outputs": [],
   "source": [
    "K.gradients?"
   ]
  },
  {
   "cell_type": "code",
   "execution_count": null,
   "metadata": {
    "collapsed": false
   },
   "outputs": [],
   "source": [
    "# Evaluate the accuracy of the MNIST model on adversarial examples\n",
    "eval_par = {'batch_size': batch_size}\n",
    "acc = model_eval(sess, x, y, preds_adv, X_test, Y_test, args=eval_par)\n",
    "print('Test accuracy on adversarial examples: %0.4f\\n' % acc)\n",
    "report.clean_train_adv_eval = acc"
   ]
  },
  {
   "cell_type": "code",
   "execution_count": null,
   "metadata": {
    "collapsed": true
   },
   "outputs": [],
   "source": [
    "# Calculating train error\n",
    "if testing:\n",
    "    eval_par = {'batch_size': batch_size}\n",
    "    acc = model_eval(sess, x, y, preds_adv, X_train,\n",
    "                     Y_train, args=eval_par)\n",
    "    report.train_clean_train_adv_eval = acc"
   ]
  },
  {
   "cell_type": "code",
   "execution_count": null,
   "metadata": {
    "collapsed": false
   },
   "outputs": [],
   "source": [
    "# Redefine TF model graph\n",
    "model_2 = cnn_model()\n",
    "preds_2 = model_2(x)\n",
    "wrap_2 = KerasModelWrapper(model_2)\n",
    "fgsm2 = FastGradientMethod(wrap_2, sess=sess)\n",
    "preds_2_adv = model_2(fgsm2.generate(x, **fgsm_params))"
   ]
  },
  {
   "cell_type": "code",
   "execution_count": null,
   "metadata": {
    "collapsed": true
   },
   "outputs": [],
   "source": [
    "def evaluate_2():\n",
    "    # Accuracy of adversarially trained model on legitimate test inputs\n",
    "    eval_params = {'batch_size': batch_size}\n",
    "    accuracy = model_eval(sess, x, y, preds_2, X_test, Y_test,\n",
    "                          args=eval_params)\n",
    "    print('Test accuracy on legitimate examples: %0.4f' % accuracy)\n",
    "    report.adv_train_clean_eval = accuracy\n",
    "\n",
    "    # Accuracy of the adversarially trained model on adversarial examples\n",
    "    accuracy = model_eval(sess, x, y, preds_2_adv, X_test,\n",
    "                          Y_test, args=eval_params)\n",
    "    print('Test accuracy on adversarial examples: %0.4f' % accuracy)\n",
    "    report.adv_train_adv_eval = accuracy"
   ]
  },
  {
   "cell_type": "code",
   "execution_count": null,
   "metadata": {
    "collapsed": false
   },
   "outputs": [],
   "source": [
    "# Perform and evaluate adversarial training\n",
    "model_train(sess, x, y, preds_2, X_train, Y_train,\n",
    "            predictions_adv=preds_2_adv, evaluate=evaluate_2,\n",
    "            args=train_params, save=False, rng=rng)"
   ]
  },
  {
   "cell_type": "code",
   "execution_count": null,
   "metadata": {
    "collapsed": false
   },
   "outputs": [],
   "source": [
    "# Calculate training errors\n",
    "\n",
    "eval_params = {'batch_size': batch_size}\n",
    "accuracy = model_eval(sess, x, y, preds_2, X_train, Y_train,\n",
    "                      args=eval_params)\n",
    "report.train_adv_train_clean_eval = accuracy\n",
    "accuracy = model_eval(sess, x, y, preds_2_adv, X_train,\n",
    "                      Y_train, args=eval_params)\n",
    "report.train_adv_train_adv_eval = accuracy"
   ]
  },
  {
   "cell_type": "code",
   "execution_count": null,
   "metadata": {
    "collapsed": false
   },
   "outputs": [],
   "source": [
    "report.__dict__"
   ]
  }
 ],
 "metadata": {
  "anaconda-cloud": {},
  "kernelspec": {
   "display_name": "Python [default]",
   "language": "python",
   "name": "python3"
  },
  "language_info": {
   "codemirror_mode": {
    "name": "ipython",
    "version": 3
   },
   "file_extension": ".py",
   "mimetype": "text/x-python",
   "name": "python",
   "nbconvert_exporter": "python",
   "pygments_lexer": "ipython3",
   "version": "3.5.4"
  }
 },
 "nbformat": 4,
 "nbformat_minor": 2
}

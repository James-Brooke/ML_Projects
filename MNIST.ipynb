{
 "cells": [
  {
   "cell_type": "markdown",
   "metadata": {},
   "source": [
    "# MNIST classification"
   ]
  },
  {
   "cell_type": "markdown",
   "metadata": {},
   "source": [
    "MNIST is the hello world of machine learning. It is a dataset of 70,000 handwritten digits. http://yann.lecun.com/exdb/mnist/"
   ]
  },
  {
   "cell_type": "code",
   "execution_count": 4,
   "metadata": {
    "collapsed": true
   },
   "outputs": [],
   "source": [
    "%matplotlib inline\n",
    "\n",
    "import pandas as pd\n",
    "import numpy as np\n",
    "\n",
    "import matplotlib.pyplot as plt\n",
    "import seaborn as sns\n",
    "\n",
    "from sklearn.datasets import fetch_mldata\n",
    "from sklearn.model_selection import GridSearchCV\n",
    "from sklearn.neighbors import KNeighborsClassifier\n",
    "from sklearn.metrics import confusion_matrix\n",
    "from scipy.ndimage.interpolation import shift\n",
    "\n",
    "sns.set_style(\"white\")"
   ]
  },
  {
   "cell_type": "code",
   "execution_count": 5,
   "metadata": {
    "collapsed": false
   },
   "outputs": [],
   "source": [
    "mnist = fetch_mldata('mnist-original')"
   ]
  },
  {
   "cell_type": "code",
   "execution_count": 6,
   "metadata": {
    "collapsed": true
   },
   "outputs": [],
   "source": [
    "X, y = mnist[\"data\"], mnist[\"target\"]"
   ]
  },
  {
   "cell_type": "code",
   "execution_count": 7,
   "metadata": {
    "collapsed": false
   },
   "outputs": [
    {
     "data": {
      "text/plain": [
       "(70000, 784)"
      ]
     },
     "execution_count": 7,
     "metadata": {},
     "output_type": "execute_result"
    }
   ],
   "source": [
    "X.shape"
   ]
  },
  {
   "cell_type": "code",
   "execution_count": 8,
   "metadata": {
    "collapsed": false
   },
   "outputs": [
    {
     "data": {
      "text/plain": [
       "(70000,)"
      ]
     },
     "execution_count": 8,
     "metadata": {},
     "output_type": "execute_result"
    }
   ],
   "source": [
    "y.shape"
   ]
  },
  {
   "cell_type": "markdown",
   "metadata": {},
   "source": [
    "The images are 28 x 28 and are unrolled into vectors. "
   ]
  },
  {
   "cell_type": "code",
   "execution_count": 6,
   "metadata": {
    "collapsed": false
   },
   "outputs": [
    {
     "name": "stdout",
     "output_type": "stream",
     "text": [
      "example is a 0\n"
     ]
    },
    {
     "data": {
      "image/png": "[encoded data removed]",
      "text/plain": [
       "<matplotlib.figure.Figure at 0x198ed929a90>"
      ]
     },
     "metadata": {},
     "output_type": "display_data"
    }
   ],
   "source": [
    "observation = 2\n",
    "\n",
    "example = X[observation,:].reshape(28,28)\n",
    "print(\"example is a {}\".format(int(y[observation])))\n",
    "plt.imshow(example)\n",
    "plt.axis('off');"
   ]
  },
  {
   "cell_type": "markdown",
   "metadata": {},
   "source": [
    "The data set is pre-split into training and test sets. The final 10,000 observations are the test set. "
   ]
  },
  {
   "cell_type": "code",
   "execution_count": 9,
   "metadata": {
    "collapsed": true
   },
   "outputs": [],
   "source": [
    "X_train, X_test, y_train, y_test = X[:60000], X[60000:], y[:60000], y[60000:]"
   ]
  },
  {
   "cell_type": "markdown",
   "metadata": {},
   "source": [
    "The observations are not pre-shuffled."
   ]
  },
  {
   "cell_type": "code",
   "execution_count": 10,
   "metadata": {
    "collapsed": true
   },
   "outputs": [],
   "source": [
    "shuffle = np.random.permutation(60000)\n",
    "X_train, y_train = X_train[shuffle], y_train[shuffle]"
   ]
  },
  {
   "cell_type": "markdown",
   "metadata": {},
   "source": [
    "### K-nearest neighbors n=1"
   ]
  },
  {
   "cell_type": "code",
   "execution_count": 9,
   "metadata": {
    "collapsed": false
   },
   "outputs": [
    {
     "data": {
      "text/plain": [
       "array([[ 973,    0,    7,    0,    0,    1,    4,    0,    6,    2],\n",
       "       [   1, 1129,    6,    1,    7,    1,    2,   14,    1,    5],\n",
       "       [   1,    3,  992,    2,    0,    0,    0,    6,    3,    1],\n",
       "       [   0,    0,    5,  970,    0,   12,    0,    2,   14,    6],\n",
       "       [   0,    1,    1,    1,  944,    2,    3,    4,    5,   10],\n",
       "       [   1,    1,    0,   19,    0,  860,    5,    0,   13,    5],\n",
       "       [   3,    1,    2,    0,    3,    5,  944,    0,    3,    1],\n",
       "       [   1,    0,   16,    7,    5,    1,    0,  992,    4,   11],\n",
       "       [   0,    0,    3,    7,    1,    6,    0,    0,  920,    1],\n",
       "       [   0,    0,    0,    3,   22,    4,    0,   10,    5,  967]])"
      ]
     },
     "execution_count": 9,
     "metadata": {},
     "output_type": "execute_result"
    }
   ],
   "source": [
    "knn = KNeighborsClassifier(algorithm='brute',n_neighbors=1)\n",
    "knn.fit(X_train, y_train)\n",
    "predictions1 = knn.predict(X_test)\n",
    "confusion_matrix(predictions1, y_test)"
   ]
  },
  {
   "cell_type": "code",
   "execution_count": 10,
   "metadata": {
    "collapsed": false,
    "scrolled": true
   },
   "outputs": [
    {
     "data": {
      "text/plain": [
       "0.96909999999999996"
      ]
     },
     "execution_count": 10,
     "metadata": {},
     "output_type": "execute_result"
    }
   ],
   "source": [
    "np.mean(predictions1 == y_test)"
   ]
  },
  {
   "cell_type": "markdown",
   "metadata": {},
   "source": [
    "96.9% accuracy"
   ]
  },
  {
   "cell_type": "markdown",
   "metadata": {},
   "source": [
    "### K-nearest neighbors n=2"
   ]
  },
  {
   "cell_type": "code",
   "execution_count": 11,
   "metadata": {
    "collapsed": false
   },
   "outputs": [
    {
     "data": {
      "text/plain": [
       "array([[ 976,    0,   11,    1,    3,    6,    7,    0,   10,    6],\n",
       "       [   1, 1133,   10,    1,    7,    2,    3,   29,    2,    6],\n",
       "       [   1,    2,  995,    8,    0,    0,    0,    8,    8,    3],\n",
       "       [   0,    0,    1,  981,    0,   25,    0,    2,   28,    9],\n",
       "       [   0,    0,    2,    1,  959,    2,    5,    3,    9,   19],\n",
       "       [   1,    0,    0,    9,    0,  850,    4,    0,   29,    4],\n",
       "       [   0,    0,    0,    0,    2,    2,  939,    0,    4,    1],\n",
       "       [   1,    0,   12,    6,    3,    1,    0,  981,    5,   22],\n",
       "       [   0,    0,    1,    2,    0,    1,    0,    0,  876,    2],\n",
       "       [   0,    0,    0,    1,    8,    3,    0,    5,    3,  937]])"
      ]
     },
     "execution_count": 11,
     "metadata": {},
     "output_type": "execute_result"
    }
   ],
   "source": [
    "knn = KNeighborsClassifier(algorithm='brute',n_neighbors=2)\n",
    "knn.fit(X_train, y_train)\n",
    "predictions = knn.predict(X_test)\n",
    "confusion_matrix(predictions, y_test)"
   ]
  },
  {
   "cell_type": "code",
   "execution_count": 12,
   "metadata": {
    "collapsed": false
   },
   "outputs": [
    {
     "data": {
      "text/plain": [
       "0.9627"
      ]
     },
     "execution_count": 12,
     "metadata": {},
     "output_type": "execute_result"
    }
   ],
   "source": [
    "np.mean(predictions == y_test)"
   ]
  },
  {
   "cell_type": "markdown",
   "metadata": {},
   "source": [
    "Accuracy has decreased"
   ]
  },
  {
   "cell_type": "markdown",
   "metadata": {},
   "source": [
    "### K-nearest neighbors n=5"
   ]
  },
  {
   "cell_type": "code",
   "execution_count": 13,
   "metadata": {
    "collapsed": false
   },
   "outputs": [
    {
     "data": {
      "text/plain": [
       "array([[ 974,    0,   11,    0,    3,    5,    5,    0,    8,    5],\n",
       "       [   1, 1133,    8,    3,    7,    0,    3,   22,    3,    7],\n",
       "       [   1,    2,  991,    3,    0,    0,    0,    4,    5,    3],\n",
       "       [   0,    0,    2,  976,    0,   12,    0,    0,   13,    9],\n",
       "       [   0,    0,    1,    1,  944,    2,    3,    3,    6,    7],\n",
       "       [   1,    0,    0,   13,    0,  862,    2,    0,   12,    3],\n",
       "       [   2,    0,    1,    1,    4,    4,  945,    0,    5,    1],\n",
       "       [   1,    0,   15,    6,    2,    1,    0,  988,    5,   10],\n",
       "       [   0,    0,    3,    3,    1,    2,    0,    0,  913,    2],\n",
       "       [   0,    0,    0,    4,   21,    4,    0,   11,    4,  962]])"
      ]
     },
     "execution_count": 13,
     "metadata": {},
     "output_type": "execute_result"
    }
   ],
   "source": [
    "knn = KNeighborsClassifier(algorithm='brute',n_neighbors=5)\n",
    "knn.fit(X_train, y_train)\n",
    "predictions = knn.predict(X_test)\n",
    "confusion_matrix(predictions, y_test)"
   ]
  },
  {
   "cell_type": "code",
   "execution_count": 14,
   "metadata": {
    "collapsed": false
   },
   "outputs": [
    {
     "data": {
      "text/plain": [
       "0.96879999999999999"
      ]
     },
     "execution_count": 14,
     "metadata": {},
     "output_type": "execute_result"
    }
   ],
   "source": [
    "np.mean(predictions == y_test)"
   ]
  },
  {
   "cell_type": "markdown",
   "metadata": {},
   "source": [
    "n=1 is still better."
   ]
  },
  {
   "cell_type": "markdown",
   "metadata": {},
   "source": [
    "### Add weights"
   ]
  },
  {
   "cell_type": "code",
   "execution_count": 15,
   "metadata": {
    "collapsed": false
   },
   "outputs": [
    {
     "data": {
      "text/plain": [
       "array([[ 974,    0,   11,    0,    2,    4,    5,    0,    7,    3],\n",
       "       [   1, 1133,    7,    2,    7,    0,    3,   20,    3,    5],\n",
       "       [   1,    2,  989,    3,    0,    0,    0,    4,    5,    3],\n",
       "       [   0,    0,    2,  973,    0,    9,    0,    0,   12,    7],\n",
       "       [   0,    0,    0,    1,  943,    2,    3,    3,    5,    7],\n",
       "       [   1,    0,    0,   13,    0,  861,    2,    0,   11,    3],\n",
       "       [   2,    0,    2,    1,    4,    6,  945,    0,    5,    1],\n",
       "       [   1,    0,   17,    7,    3,    1,    0,  990,    5,   11],\n",
       "       [   0,    0,    4,    4,    0,    4,    0,    0,  916,    2],\n",
       "       [   0,    0,    0,    6,   23,    5,    0,   11,    5,  967]])"
      ]
     },
     "execution_count": 15,
     "metadata": {},
     "output_type": "execute_result"
    }
   ],
   "source": [
    "knn = KNeighborsClassifier(algorithm='brute',n_neighbors=5, weights=\"distance\") #1/distance\n",
    "knn.fit(X_train, y_train)\n",
    "predictions = knn.predict(X_test)\n",
    "confusion_matrix(predictions, y_test)"
   ]
  },
  {
   "cell_type": "code",
   "execution_count": 16,
   "metadata": {
    "collapsed": false
   },
   "outputs": [
    {
     "data": {
      "text/plain": [
       "0.96909999999999996"
      ]
     },
     "execution_count": 16,
     "metadata": {},
     "output_type": "execute_result"
    }
   ],
   "source": [
    "np.mean(predictions == y_test)"
   ]
  },
  {
   "cell_type": "markdown",
   "metadata": {},
   "source": [
    "Same accuracy as n=1; however, not the exact same predictions:"
   ]
  },
  {
   "cell_type": "code",
   "execution_count": 17,
   "metadata": {
    "collapsed": false
   },
   "outputs": [
    {
     "data": {
      "text/plain": [
       "array([[-1,  0, -4,  0, -2, -3, -1,  0, -1, -1],\n",
       "       [ 0, -4, -1, -1,  0,  1, -1, -6, -2,  0],\n",
       "       [ 0,  1,  3, -1,  0,  0,  0,  2, -2, -2],\n",
       "       [ 0,  0,  3, -3,  0,  3,  0,  2,  2, -1],\n",
       "       [ 0,  1,  1,  0,  1,  0,  0,  1,  0,  3],\n",
       "       [ 0,  1,  0,  6,  0, -1,  3,  0,  2,  2],\n",
       "       [ 1,  1,  0, -1, -1, -1, -1,  0, -2,  0],\n",
       "       [ 0,  0, -1,  0,  2,  0,  0,  2, -1,  0],\n",
       "       [ 0,  0, -1,  3,  1,  2,  0,  0,  4, -1],\n",
       "       [ 0,  0,  0, -3, -1, -1,  0, -1,  0,  0]])"
      ]
     },
     "execution_count": 17,
     "metadata": {},
     "output_type": "execute_result"
    }
   ],
   "source": [
    "confusion_matrix(predictions1, y_test) - confusion_matrix(predictions, y_test)"
   ]
  },
  {
   "cell_type": "markdown",
   "metadata": {
    "collapsed": true
   },
   "source": [
    "### K-nearest neighbors n=10 with weights"
   ]
  },
  {
   "cell_type": "code",
   "execution_count": 18,
   "metadata": {
    "collapsed": false
   },
   "outputs": [
    {
     "data": {
      "text/plain": [
       "array([[ 972,    0,   13,    0,    1,    4,    6,    0,    6,    5],\n",
       "       [   1, 1132,   10,    3,   11,    0,    4,   25,    4,    6],\n",
       "       [   1,    2,  983,    1,    0,    0,    0,    3,    4,    3],\n",
       "       [   0,    0,    2,  975,    0,    4,    0,    0,   10,    5],\n",
       "       [   0,    0,    1,    1,  940,    2,    3,    1,    6,    8],\n",
       "       [   2,    0,    0,   12,    0,  868,    2,    0,    8,    4],\n",
       "       [   3,    1,    2,    1,    4,    6,  943,    0,    3,    1],\n",
       "       [   1,    0,   17,    7,    1,    1,    0,  987,    6,   10],\n",
       "       [   0,    0,    4,    5,    1,    1,    0,    0,  919,    2],\n",
       "       [   0,    0,    0,    5,   24,    6,    0,   12,    8,  965]])"
      ]
     },
     "execution_count": 18,
     "metadata": {},
     "output_type": "execute_result"
    }
   ],
   "source": [
    "knn = KNeighborsClassifier(algorithm='brute',n_neighbors=10, weights=\"distance\") #1/distance\n",
    "knn.fit(X_train, y_train)\n",
    "predictions = knn.predict(X_test)\n",
    "confusion_matrix(predictions, y_test)"
   ]
  },
  {
   "cell_type": "code",
   "execution_count": 19,
   "metadata": {
    "collapsed": false
   },
   "outputs": [
    {
     "data": {
      "text/plain": [
       "0.96840000000000004"
      ]
     },
     "execution_count": 19,
     "metadata": {},
     "output_type": "execute_result"
    }
   ],
   "source": [
    "np.mean(predictions == y_test)"
   ]
  },
  {
   "cell_type": "markdown",
   "metadata": {},
   "source": [
    "1 Neighbour performs surprisingly well. Some numbers seem more difficult to classify than others."
   ]
  },
  {
   "cell_type": "code",
   "execution_count": 20,
   "metadata": {
    "collapsed": true
   },
   "outputs": [],
   "source": [
    "conf = confusion_matrix(predictions1, y_test)"
   ]
  },
  {
   "cell_type": "code",
   "execution_count": 21,
   "metadata": {
    "collapsed": false
   },
   "outputs": [
    {
     "data": {
      "text/plain": [
       "array([[ 973,    0,    7,    0,    0,    1,    4,    0,    6,    2],\n",
       "       [   1, 1129,    6,    1,    7,    1,    2,   14,    1,    5],\n",
       "       [   1,    3,  992,    2,    0,    0,    0,    6,    3,    1],\n",
       "       [   0,    0,    5,  970,    0,   12,    0,    2,   14,    6],\n",
       "       [   0,    1,    1,    1,  944,    2,    3,    4,    5,   10],\n",
       "       [   1,    1,    0,   19,    0,  860,    5,    0,   13,    5],\n",
       "       [   3,    1,    2,    0,    3,    5,  944,    0,    3,    1],\n",
       "       [   1,    0,   16,    7,    5,    1,    0,  992,    4,   11],\n",
       "       [   0,    0,    3,    7,    1,    6,    0,    0,  920,    1],\n",
       "       [   0,    0,    0,    3,   22,    4,    0,   10,    5,  967]])"
      ]
     },
     "execution_count": 21,
     "metadata": {},
     "output_type": "execute_result"
    }
   ],
   "source": [
    "conf"
   ]
  },
  {
   "cell_type": "code",
   "execution_count": 22,
   "metadata": {
    "collapsed": false
   },
   "outputs": [
    {
     "data": {
      "text/html": [
       "<div>\n",
       "<style>\n",
       "    .dataframe thead tr:only-child th {\n",
       "        text-align: right;\n",
       "    }\n",
       "\n",
       "    .dataframe thead th {\n",
       "        text-align: left;\n",
       "    }\n",
       "\n",
       "    .dataframe tbody tr th {\n",
       "        vertical-align: top;\n",
       "    }\n",
       "</style>\n",
       "<table border=\"1\" class=\"dataframe\">\n",
       "  <thead>\n",
       "    <tr style=\"text-align: right;\">\n",
       "      <th></th>\n",
       "      <th>Error rate</th>\n",
       "    </tr>\n",
       "    <tr>\n",
       "      <th>Digit</th>\n",
       "      <th></th>\n",
       "    </tr>\n",
       "  </thead>\n",
       "  <tbody>\n",
       "    <tr>\n",
       "      <th>0</th>\n",
       "      <td>2.014099</td>\n",
       "    </tr>\n",
       "    <tr>\n",
       "      <th>1</th>\n",
       "      <td>3.256213</td>\n",
       "    </tr>\n",
       "    <tr>\n",
       "      <th>2</th>\n",
       "      <td>1.587302</td>\n",
       "    </tr>\n",
       "    <tr>\n",
       "      <th>3</th>\n",
       "      <td>3.865213</td>\n",
       "    </tr>\n",
       "    <tr>\n",
       "      <th>4</th>\n",
       "      <td>2.780639</td>\n",
       "    </tr>\n",
       "    <tr>\n",
       "      <th>5</th>\n",
       "      <td>4.867257</td>\n",
       "    </tr>\n",
       "    <tr>\n",
       "      <th>6</th>\n",
       "      <td>1.871102</td>\n",
       "    </tr>\n",
       "    <tr>\n",
       "      <th>7</th>\n",
       "      <td>4.339441</td>\n",
       "    </tr>\n",
       "    <tr>\n",
       "      <th>8</th>\n",
       "      <td>1.918977</td>\n",
       "    </tr>\n",
       "    <tr>\n",
       "      <th>9</th>\n",
       "      <td>4.352127</td>\n",
       "    </tr>\n",
       "  </tbody>\n",
       "</table>\n",
       "</div>"
      ],
      "text/plain": [
       "       Error rate\n",
       "Digit            \n",
       "0        2.014099\n",
       "1        3.256213\n",
       "2        1.587302\n",
       "3        3.865213\n",
       "4        2.780639\n",
       "5        4.867257\n",
       "6        1.871102\n",
       "7        4.339441\n",
       "8        1.918977\n",
       "9        4.352127"
      ]
     },
     "execution_count": 22,
     "metadata": {},
     "output_type": "execute_result"
    }
   ],
   "source": [
    "error_rate = 100 * (conf.sum(axis=1) - np.diag(conf)) / conf.sum(axis=1)\n",
    "\n",
    "df = pd.DataFrame({'Error rate': error_rate})\n",
    "df.index.name = 'Digit'\n",
    "df"
   ]
  },
  {
   "cell_type": "code",
   "execution_count": 23,
   "metadata": {
    "collapsed": false
   },
   "outputs": [
    {
     "data": {
      "image/png": "[encoded data removed]",
      "text/plain": [
       "<matplotlib.figure.Figure at 0x198e8dcc4a8>"
      ]
     },
     "metadata": {},
     "output_type": "display_data"
    }
   ],
   "source": [
    "df.plot(kind='bar');"
   ]
  },
  {
   "cell_type": "markdown",
   "metadata": {},
   "source": [
    "5 has the highest error rate"
   ]
  },
  {
   "cell_type": "code",
   "execution_count": 24,
   "metadata": {
    "collapsed": false
   },
   "outputs": [],
   "source": [
    "index = (predictions1 != 5) & (y_test == 5)\n",
    "wrong_fives = X_test[index, : ]"
   ]
  },
  {
   "cell_type": "code",
   "execution_count": 25,
   "metadata": {
    "collapsed": false
   },
   "outputs": [
    {
     "data": {
      "image/png": "[encoded data removed]",
      "text/plain": [
       "<matplotlib.figure.Figure at 0x19880086b38>"
      ]
     },
     "metadata": {},
     "output_type": "display_data"
    }
   ],
   "source": [
    "f, ax = plt.subplots(8, 4)\n",
    "\n",
    "counter = 0\n",
    "\n",
    "for column in range(4):\n",
    "    for row in range(8):\n",
    "        ax[row,column].imshow(wrong_fives[counter].reshape(28,28))\n",
    "        counter +=1\n",
    "        ax[row,column].axis('off');"
   ]
  },
  {
   "cell_type": "markdown",
   "metadata": {},
   "source": [
    "Some of those fives look suspect."
   ]
  },
  {
   "cell_type": "code",
   "execution_count": 26,
   "metadata": {
    "collapsed": false
   },
   "outputs": [
    {
     "data": {
      "text/plain": [
       "(-0.5, 27.5, 27.5, -0.5)"
      ]
     },
     "execution_count": 26,
     "metadata": {},
     "output_type": "execute_result"
    },
    {
     "data": {
      "image/png": "[encoded data removed]",
      "text/plain": [
       "<matplotlib.figure.Figure at 0x198f11d90b8>"
      ]
     },
     "metadata": {},
     "output_type": "display_data"
    }
   ],
   "source": [
    "plt.imshow(wrong_fives[29].reshape(28,28))\n",
    "plt.axis('off')"
   ]
  },
  {
   "cell_type": "markdown",
   "metadata": {},
   "source": [
    "Sure looks like a 6 to me!"
   ]
  },
  {
   "cell_type": "markdown",
   "metadata": {},
   "source": [
    "Augmentation can be used to improve performance. Gollan et al achieved 99.48% accuracy using a pseudo-two-dimensional hidden Markov distortion model (P2DHMM) in their preprocessing stage. http://citeseerx.ist.psu.edu/viewdoc/download;jsessionid=E0F3BDC7642FBA1D8E2811526BD0E596?doi=10.1.1.106.3963&rep=rep1&type=pdf"
   ]
  },
  {
   "cell_type": "markdown",
   "metadata": {},
   "source": [
    "Lets add augmented images to the training set, new images shifted one pixel for each direction."
   ]
  },
  {
   "cell_type": "code",
   "execution_count": 11,
   "metadata": {
    "collapsed": false
   },
   "outputs": [],
   "source": [
    "def image_shift(image, direction, magnitude):\n",
    "    \n",
    "    shift_dict = {'up': [-magnitude, 0], 'down': [magnitude, 0],'left': [0, -magnitude],'right': [0, magnitude]}\n",
    "    \n",
    "    shift_coords = shift_dict[direction]\n",
    "        \n",
    "    image = image.reshape((28,28))\n",
    "        \n",
    "    image_shifted = shift(image, shift_coords, mode='constant')\n",
    "    \n",
    "    return image_shifted.reshape([-1])"
   ]
  },
  {
   "cell_type": "markdown",
   "metadata": {},
   "source": [
    "For demonstration, the same image shifted by five pixels in each direction."
   ]
  },
  {
   "cell_type": "code",
   "execution_count": 28,
   "metadata": {
    "collapsed": false,
    "scrolled": true
   },
   "outputs": [
    {
     "data": {
      "image/png": "[encoded data removed]",
      "text/plain": [
       "<matplotlib.figure.Figure at 0x198f11d47b8>"
      ]
     },
     "metadata": {},
     "output_type": "display_data"
    }
   ],
   "source": [
    "f, ax = plt.subplots(2, 2)\n",
    "f.subplots_adjust(hspace = 0.4)\n",
    "\n",
    "shiftlist = ['up', 'left', 'down', 'right']\n",
    "magnitude = 5\n",
    "\n",
    "counter = 0\n",
    "\n",
    "for column in range(2):\n",
    "    for row in range(2):\n",
    "        ax[row,column].imshow(image_shift(X_train[1], shiftlist[counter], magnitude).reshape(28,28))\n",
    "        ax[row,column].set_title(shiftlist[counter])\n",
    "        ax[row,column].set_xticks([])\n",
    "        ax[row,column].set_yticks([])\n",
    "        counter +=1"
   ]
  },
  {
   "cell_type": "code",
   "execution_count": 12,
   "metadata": {
    "collapsed": false
   },
   "outputs": [],
   "source": [
    "shiftlist = ['up', 'left', 'down', 'right']\n",
    "magnitude = 1\n",
    "\n",
    "X_train_augmented = [image for image in X_train]\n",
    "\n",
    "for direction in shiftlist:\n",
    "    for image in X_train:\n",
    "        X_train_augmented.append(image_shift(image, direction, magnitude))\n",
    "\n",
    "X_train_augmented = np.array(X_train_augmented)\n",
    "\n",
    "y_train_augmented = np.tile(y_train, 5)"
   ]
  },
  {
   "cell_type": "code",
   "execution_count": 13,
   "metadata": {
    "collapsed": false
   },
   "outputs": [
    {
     "data": {
      "text/plain": [
       "(300000, 784)"
      ]
     },
     "execution_count": 13,
     "metadata": {},
     "output_type": "execute_result"
    }
   ],
   "source": [
    "X_train_augmented.shape"
   ]
  },
  {
   "cell_type": "code",
   "execution_count": 14,
   "metadata": {
    "collapsed": false,
    "scrolled": false
   },
   "outputs": [
    {
     "data": {
      "text/plain": [
       "(300000,)"
      ]
     },
     "execution_count": 14,
     "metadata": {},
     "output_type": "execute_result"
    }
   ],
   "source": [
    "y_train_augmented.shape"
   ]
  },
  {
   "cell_type": "markdown",
   "metadata": {},
   "source": [
    "### Augmented K-nearest neighbors n=1"
   ]
  },
  {
   "cell_type": "code",
   "execution_count": 32,
   "metadata": {
    "collapsed": false
   },
   "outputs": [
    {
     "data": {
      "text/plain": [
       "array([[ 974,    0,    6,    1,    0,    1,    4,    0,    4,    2],\n",
       "       [   1, 1130,    3,    2,    2,    2,    4,   18,    2,    3],\n",
       "       [   1,    3,  998,    2,    0,    0,    0,    5,    2,    1],\n",
       "       [   0,    0,    2,  983,    0,   10,    0,    0,   12,    5],\n",
       "       [   0,    1,    2,    1,  946,    0,    0,    5,    5,    8],\n",
       "       [   1,    0,    0,    9,    0,  865,    3,    0,   13,    6],\n",
       "       [   2,    1,    2,    0,    4,    6,  947,    0,    4,    0],\n",
       "       [   1,    0,   17,    5,    4,    1,    0,  990,    4,   10],\n",
       "       [   0,    0,    1,    5,    0,    4,    0,    0,  921,    1],\n",
       "       [   0,    0,    1,    2,   26,    3,    0,   10,    7,  973]])"
      ]
     },
     "execution_count": 32,
     "metadata": {},
     "output_type": "execute_result"
    }
   ],
   "source": [
    "knn = KNeighborsClassifier(n_neighbors=1) \n",
    "knn.fit(X_train_augmented, y_train_augmented)\n",
    "predictions = knn.predict(X_test)\n",
    "confusion_matrix(predictions, y_test)"
   ]
  },
  {
   "cell_type": "code",
   "execution_count": 33,
   "metadata": {
    "collapsed": false
   },
   "outputs": [
    {
     "data": {
      "text/plain": [
       "0.97270000000000001"
      ]
     },
     "execution_count": 33,
     "metadata": {},
     "output_type": "execute_result"
    }
   ],
   "source": [
    "np.mean(predictions == y_test)"
   ]
  },
  {
   "cell_type": "markdown",
   "metadata": {
    "collapsed": true
   },
   "source": [
    "0.3% accuracy boost"
   ]
  },
  {
   "cell_type": "code",
   "execution_count": 34,
   "metadata": {
    "collapsed": false
   },
   "outputs": [],
   "source": [
    "index_augment = ((predictions != 5) & (y_test == 5))\n",
    "wrong_fives_augment = X_test[index_augment, : ]"
   ]
  },
  {
   "cell_type": "code",
   "execution_count": 35,
   "metadata": {
    "collapsed": false
   },
   "outputs": [
    {
     "data": {
      "image/png": "[encoded data removed]",
      "text/plain": [
       "<matplotlib.figure.Figure at 0x19881a827b8>"
      ]
     },
     "metadata": {},
     "output_type": "display_data"
    }
   ],
   "source": [
    "f, ax = plt.subplots(9, 3)\n",
    "\n",
    "counter = 0\n",
    "\n",
    "for column in range(3):\n",
    "    for row in range(9):\n",
    "        ax[row,column].imshow(wrong_fives_augment[counter].reshape(28,28))\n",
    "        counter +=1\n",
    "        ax[row,column].axis('off');"
   ]
  },
  {
   "cell_type": "markdown",
   "metadata": {},
   "source": [
    "The most suspect fives remain"
   ]
  },
  {
   "cell_type": "markdown",
   "metadata": {},
   "source": [
    "### Using TensorFlow's high level API to create a neural net"
   ]
  },
  {
   "cell_type": "code",
   "execution_count": 15,
   "metadata": {
    "collapsed": false
   },
   "outputs": [
    {
     "name": "stderr",
     "output_type": "stream",
     "text": [
      "C:\\Users\\James\\Anaconda3\\lib\\site-packages\\h5py\\__init__.py:34: FutureWarning: Conversion of the second argument of issubdtype from `float` to `np.floating` is deprecated. In future, it will be treated as `np.float64 == np.dtype(float).type`.\n",
      "  from ._conv import register_converters as _register_converters\n"
     ]
    }
   ],
   "source": [
    "import tensorflow as tf\n",
    "from sklearn.preprocessing import StandardScaler"
   ]
  },
  {
   "cell_type": "code",
   "execution_count": 16,
   "metadata": {
    "collapsed": false
   },
   "outputs": [],
   "source": [
    "X_train_augmented = np.array(X_train_augmented, dtype=np.float32)\n",
    "y_train_augmented = np.array(y_train_augmented, dtype=np.int32)\n",
    "\n",
    "scaler = StandardScaler()\n",
    "X_train_augmented_scale = scaler.fit_transform(X_train_augmented)"
   ]
  },
  {
   "cell_type": "code",
   "execution_count": 19,
   "metadata": {
    "collapsed": false
   },
   "outputs": [
    {
     "name": "stdout",
     "output_type": "stream",
     "text": [
      "INFO:tensorflow:Using default config.\n",
      "WARNING:tensorflow:Using temporary folder as model directory: C:\\Users\\James\\AppData\\Local\\Temp\\tmpac5dskz_\n",
      "INFO:tensorflow:Using config: {'_task_id': 0, '_tf_config': gpu_options {\n",
      "  per_process_gpu_memory_fraction: 1\n",
      "}\n",
      ", '_model_dir': 'C:\\\\Users\\\\James\\\\AppData\\\\Local\\\\Temp\\\\tmpac5dskz_', '_master': '', '_environment': 'local', '_tf_random_seed': None, '_save_checkpoints_secs': 600, '_task_type': None, '_num_ps_replicas': 0, '_evaluation_master': '', '_keep_checkpoint_max': 5, '_is_chief': True, '_log_step_count_steps': 100, '_save_checkpoints_steps': None, '_keep_checkpoint_every_n_hours': 10000, '_session_config': None, '_num_worker_replicas': 0, '_cluster_spec': <tensorflow.python.training.server_lib.ClusterSpec object at 0x000001FEED1E6CC0>, '_save_summary_steps': 100}\n",
      "INFO:tensorflow:Create CheckpointSaverHook.\n",
      "INFO:tensorflow:Saving checkpoints for 1 into C:\\Users\\James\\AppData\\Local\\Temp\\tmpac5dskz_\\model.ckpt.\n",
      "INFO:tensorflow:step = 1, loss = 2.6019049\n",
      "INFO:tensorflow:global_step/sec: 151.345\n",
      "INFO:tensorflow:step = 101, loss = 0.40735814 (0.663 sec)\n",
      "INFO:tensorflow:global_step/sec: 157.183\n",
      "INFO:tensorflow:step = 201, loss = 0.31494445 (0.635 sec)\n",
      "INFO:tensorflow:global_step/sec: 159.959\n",
      "INFO:tensorflow:step = 301, loss = 0.20243368 (0.625 sec)\n",
      "INFO:tensorflow:global_step/sec: 159.445\n",
      "INFO:tensorflow:step = 401, loss = 0.21462175 (0.627 sec)\n",
      "INFO:tensorflow:global_step/sec: 162.169\n",
      "INFO:tensorflow:step = 501, loss = 0.13855018 (0.617 sec)\n",
      "INFO:tensorflow:global_step/sec: 161.382\n",
      "INFO:tensorflow:step = 601, loss = 0.23011246 (0.620 sec)\n",
      "INFO:tensorflow:global_step/sec: 160.598\n",
      "INFO:tensorflow:step = 701, loss = 0.17372134 (0.624 sec)\n",
      "INFO:tensorflow:global_step/sec: 162.169\n",
      "INFO:tensorflow:step = 801, loss = 0.12398549 (0.619 sec)\n",
      "INFO:tensorflow:global_step/sec: 157.555\n",
      "INFO:tensorflow:step = 901, loss = 0.13175282 (0.634 sec)\n",
      "INFO:tensorflow:global_step/sec: 155.473\n",
      "INFO:tensorflow:step = 1001, loss = 0.09496218 (0.640 sec)\n",
      "INFO:tensorflow:global_step/sec: 155.835\n",
      "INFO:tensorflow:step = 1101, loss = 0.11071013 (0.644 sec)\n",
      "INFO:tensorflow:global_step/sec: 147.318\n",
      "INFO:tensorflow:step = 1201, loss = 0.080034144 (0.677 sec)\n",
      "INFO:tensorflow:global_step/sec: 139.586\n",
      "INFO:tensorflow:step = 1301, loss = 0.112651244 (0.716 sec)\n",
      "INFO:tensorflow:global_step/sec: 168.328\n",
      "INFO:tensorflow:step = 1401, loss = 0.12146807 (0.594 sec)\n",
      "INFO:tensorflow:global_step/sec: 171.071\n",
      "INFO:tensorflow:step = 1501, loss = 0.24050009 (0.584 sec)\n",
      "INFO:tensorflow:global_step/sec: 170.778\n",
      "INFO:tensorflow:step = 1601, loss = 0.06171589 (0.586 sec)\n",
      "INFO:tensorflow:global_step/sec: 171.955\n",
      "INFO:tensorflow:step = 1701, loss = 0.23305939 (0.582 sec)\n",
      "INFO:tensorflow:global_step/sec: 172.7\n",
      "INFO:tensorflow:step = 1801, loss = 0.09058195 (0.580 sec)\n",
      "INFO:tensorflow:global_step/sec: 173\n",
      "INFO:tensorflow:step = 1901, loss = 0.1175906 (0.578 sec)\n",
      "INFO:tensorflow:global_step/sec: 160.213\n",
      "INFO:tensorflow:step = 2001, loss = 0.12053521 (0.624 sec)\n",
      "INFO:tensorflow:global_step/sec: 159.703\n",
      "INFO:tensorflow:step = 2101, loss = 0.098307945 (0.630 sec)\n",
      "INFO:tensorflow:global_step/sec: 166.64\n",
      "INFO:tensorflow:step = 2201, loss = 0.024670906 (0.597 sec)\n",
      "INFO:tensorflow:global_step/sec: 160.603\n",
      "INFO:tensorflow:step = 2301, loss = 0.0751227 (0.622 sec)\n",
      "INFO:tensorflow:global_step/sec: 170.484\n",
      "INFO:tensorflow:step = 2401, loss = 0.055956364 (0.586 sec)\n",
      "INFO:tensorflow:global_step/sec: 174.362\n",
      "INFO:tensorflow:step = 2501, loss = 0.052733727 (0.575 sec)\n",
      "INFO:tensorflow:global_step/sec: 151.571\n",
      "INFO:tensorflow:step = 2601, loss = 0.09926854 (0.659 sec)\n",
      "INFO:tensorflow:global_step/sec: 164.443\n",
      "INFO:tensorflow:step = 2701, loss = 0.12995037 (0.609 sec)\n",
      "INFO:tensorflow:global_step/sec: 172.7\n",
      "INFO:tensorflow:step = 2801, loss = 0.019485367 (0.579 sec)\n",
      "INFO:tensorflow:global_step/sec: 153.911\n",
      "INFO:tensorflow:step = 2901, loss = 0.040334247 (0.649 sec)\n",
      "INFO:tensorflow:global_step/sec: 159.066\n",
      "INFO:tensorflow:step = 3001, loss = 0.06928832 (0.629 sec)\n",
      "INFO:tensorflow:global_step/sec: 159.703\n",
      "INFO:tensorflow:step = 3101, loss = 0.067565486 (0.630 sec)\n",
      "INFO:tensorflow:global_step/sec: 158.057\n",
      "INFO:tensorflow:step = 3201, loss = 0.030933008 (0.633 sec)\n",
      "INFO:tensorflow:global_step/sec: 156.563\n",
      "INFO:tensorflow:step = 3301, loss = 0.04618687 (0.635 sec)\n",
      "INFO:tensorflow:global_step/sec: 160.215\n",
      "INFO:tensorflow:step = 3401, loss = 0.03755666 (0.625 sec)\n",
      "INFO:tensorflow:global_step/sec: 161.252\n",
      "INFO:tensorflow:step = 3501, loss = 0.02134801 (0.623 sec)\n",
      "INFO:tensorflow:global_step/sec: 156.323\n",
      "INFO:tensorflow:step = 3601, loss = 0.08011481 (0.637 sec)\n",
      "INFO:tensorflow:global_step/sec: 156.323\n",
      "INFO:tensorflow:step = 3701, loss = 0.058826823 (0.640 sec)\n",
      "INFO:tensorflow:global_step/sec: 157.807\n",
      "INFO:tensorflow:step = 3801, loss = 0.045816943 (0.633 sec)\n",
      "INFO:tensorflow:global_step/sec: 159.06\n",
      "INFO:tensorflow:step = 3901, loss = 0.0560254 (0.629 sec)\n",
      "INFO:tensorflow:global_step/sec: 159.702\n",
      "INFO:tensorflow:step = 4001, loss = 0.027068326 (0.629 sec)\n",
      "INFO:tensorflow:global_step/sec: 156.079\n",
      "INFO:tensorflow:step = 4101, loss = 0.074026965 (0.638 sec)\n",
      "INFO:tensorflow:global_step/sec: 153.673\n",
      "INFO:tensorflow:step = 4201, loss = 0.06233963 (0.650 sec)\n",
      "INFO:tensorflow:global_step/sec: 153.202\n",
      "INFO:tensorflow:step = 4301, loss = 0.047868766 (0.653 sec)\n",
      "INFO:tensorflow:global_step/sec: 154.627\n",
      "INFO:tensorflow:step = 4401, loss = 0.026207648 (0.647 sec)\n",
      "INFO:tensorflow:global_step/sec: 158.56\n",
      "INFO:tensorflow:step = 4501, loss = 0.06445805 (0.630 sec)\n",
      "INFO:tensorflow:global_step/sec: 154.627\n",
      "INFO:tensorflow:step = 4601, loss = 0.08010377 (0.649 sec)\n",
      "INFO:tensorflow:global_step/sec: 158.307\n",
      "INFO:tensorflow:step = 4701, loss = 0.034874823 (0.632 sec)\n",
      "INFO:tensorflow:global_step/sec: 159.576\n",
      "INFO:tensorflow:step = 4801, loss = 0.0195869 (0.624 sec)\n",
      "INFO:tensorflow:global_step/sec: 161.382\n",
      "INFO:tensorflow:step = 4901, loss = 0.026156303 (0.619 sec)\n",
      "INFO:tensorflow:global_step/sec: 160.861\n",
      "INFO:tensorflow:step = 5001, loss = 0.02301077 (0.624 sec)\n",
      "INFO:tensorflow:global_step/sec: 160.732\n",
      "INFO:tensorflow:step = 5101, loss = 0.020433035 (0.620 sec)\n",
      "INFO:tensorflow:global_step/sec: 160.216\n",
      "INFO:tensorflow:step = 5201, loss = 0.022077477 (0.625 sec)\n",
      "INFO:tensorflow:global_step/sec: 159.703\n",
      "INFO:tensorflow:step = 5301, loss = 0.018505238 (0.625 sec)\n",
      "INFO:tensorflow:global_step/sec: 161.644\n",
      "INFO:tensorflow:step = 5401, loss = 0.038283672 (0.619 sec)\n",
      "INFO:tensorflow:global_step/sec: 162.169\n",
      "INFO:tensorflow:step = 5501, loss = 0.025594827 (0.617 sec)\n",
      "INFO:tensorflow:global_step/sec: 160.603\n",
      "INFO:tensorflow:step = 5601, loss = 0.005885748 (0.625 sec)\n",
      "INFO:tensorflow:global_step/sec: 158.058\n",
      "INFO:tensorflow:step = 5701, loss = 0.027866483 (0.631 sec)\n",
      "INFO:tensorflow:global_step/sec: 159.193\n",
      "INFO:tensorflow:step = 5801, loss = 0.03644442 (0.627 sec)\n",
      "INFO:tensorflow:global_step/sec: 160.473\n",
      "INFO:tensorflow:step = 5901, loss = 0.04414233 (0.626 sec)\n",
      "INFO:tensorflow:global_step/sec: 159.447\n",
      "INFO:tensorflow:step = 6001, loss = 0.022250505 (0.624 sec)\n",
      "INFO:tensorflow:global_step/sec: 161.382\n",
      "INFO:tensorflow:step = 6101, loss = 0.038197402 (0.620 sec)\n",
      "INFO:tensorflow:global_step/sec: 160.991\n",
      "INFO:tensorflow:step = 6201, loss = 0.043320384 (0.623 sec)\n",
      "INFO:tensorflow:global_step/sec: 162.169\n",
      "INFO:tensorflow:step = 6301, loss = 0.036593866 (0.618 sec)\n",
      "INFO:tensorflow:global_step/sec: 160.862\n",
      "INFO:tensorflow:step = 6401, loss = 0.052076094 (0.619 sec)\n",
      "INFO:tensorflow:global_step/sec: 159.702\n",
      "INFO:tensorflow:step = 6501, loss = 0.0134840235 (0.627 sec)\n",
      "INFO:tensorflow:global_step/sec: 160.087\n",
      "INFO:tensorflow:step = 6601, loss = 0.012407089 (0.624 sec)\n",
      "INFO:tensorflow:global_step/sec: 161.382\n",
      "INFO:tensorflow:step = 6701, loss = 0.024202647 (0.620 sec)\n",
      "INFO:tensorflow:global_step/sec: 160.862\n",
      "INFO:tensorflow:step = 6801, loss = 0.06298438 (0.622 sec)\n",
      "INFO:tensorflow:global_step/sec: 160.991\n",
      "INFO:tensorflow:step = 6901, loss = 0.051639777 (0.623 sec)\n",
      "INFO:tensorflow:global_step/sec: 159.703\n",
      "INFO:tensorflow:step = 7001, loss = 0.055399492 (0.624 sec)\n",
      "INFO:tensorflow:global_step/sec: 159.193\n",
      "INFO:tensorflow:step = 7101, loss = 0.028619476 (0.628 sec)\n",
      "INFO:tensorflow:global_step/sec: 157.431\n",
      "INFO:tensorflow:step = 7201, loss = 0.013418257 (0.636 sec)\n",
      "INFO:tensorflow:global_step/sec: 156.938\n",
      "INFO:tensorflow:step = 7301, loss = 0.010967943 (0.636 sec)\n",
      "INFO:tensorflow:global_step/sec: 152.732\n",
      "INFO:tensorflow:step = 7401, loss = 0.0065867305 (0.657 sec)\n",
      "INFO:tensorflow:global_step/sec: 155.955\n",
      "INFO:tensorflow:step = 7501, loss = 0.016049832 (0.639 sec)\n",
      "INFO:tensorflow:global_step/sec: 157.062\n",
      "INFO:tensorflow:step = 7601, loss = 0.03358437 (0.637 sec)\n",
      "INFO:tensorflow:global_step/sec: 158.183\n",
      "INFO:tensorflow:step = 7701, loss = 0.023170982 (0.633 sec)\n",
      "INFO:tensorflow:global_step/sec: 158.686\n",
      "INFO:tensorflow:step = 7801, loss = 0.017586704 (0.630 sec)\n",
      "INFO:tensorflow:global_step/sec: 159.959\n",
      "INFO:tensorflow:step = 7901, loss = 0.0161278 (0.629 sec)\n",
      "INFO:tensorflow:global_step/sec: 154.745\n",
      "INFO:tensorflow:step = 8001, loss = 0.036563285 (0.642 sec)\n",
      "INFO:tensorflow:global_step/sec: 159.322\n",
      "INFO:tensorflow:step = 8101, loss = 0.030948058 (0.630 sec)\n",
      "INFO:tensorflow:global_step/sec: 157.434\n",
      "INFO:tensorflow:step = 8201, loss = 0.052715313 (0.634 sec)\n",
      "INFO:tensorflow:global_step/sec: 161.644\n",
      "INFO:tensorflow:step = 8301, loss = 0.03495865 (0.619 sec)\n",
      "INFO:tensorflow:global_step/sec: 158.308\n",
      "INFO:tensorflow:step = 8401, loss = 0.020291172 (0.631 sec)\n",
      "INFO:tensorflow:global_step/sec: 157.683\n",
      "INFO:tensorflow:step = 8501, loss = 0.027985219 (0.635 sec)\n",
      "INFO:tensorflow:global_step/sec: 160.991\n",
      "INFO:tensorflow:step = 8601, loss = 0.023160454 (0.621 sec)\n",
      "INFO:tensorflow:global_step/sec: 161.252\n",
      "INFO:tensorflow:step = 8701, loss = 0.0718822 (0.623 sec)\n",
      "INFO:tensorflow:global_step/sec: 159.959\n",
      "INFO:tensorflow:step = 8801, loss = 0.0058285166 (0.622 sec)\n",
      "INFO:tensorflow:global_step/sec: 161.775\n",
      "INFO:tensorflow:step = 8901, loss = 0.055496927 (0.618 sec)\n",
      "INFO:tensorflow:global_step/sec: 157.186\n",
      "INFO:tensorflow:step = 9001, loss = 0.037196904 (0.637 sec)\n",
      "INFO:tensorflow:global_step/sec: 154.867\n",
      "INFO:tensorflow:step = 9101, loss = 0.05051204 (0.645 sec)\n",
      "INFO:tensorflow:global_step/sec: 158.686\n",
      "INFO:tensorflow:step = 9201, loss = 0.0038482437 (0.631 sec)\n",
      "INFO:tensorflow:global_step/sec: 161.382\n",
      "INFO:tensorflow:step = 9301, loss = 0.014390549 (0.619 sec)\n",
      "INFO:tensorflow:global_step/sec: 159.573\n",
      "INFO:tensorflow:step = 9401, loss = 0.008090508 (0.630 sec)\n",
      "INFO:tensorflow:global_step/sec: 159.959\n",
      "INFO:tensorflow:step = 9501, loss = 0.0119252 (0.622 sec)\n",
      "INFO:tensorflow:global_step/sec: 155.589\n",
      "INFO:tensorflow:step = 9601, loss = 0.03132908 (0.645 sec)\n",
      "INFO:tensorflow:global_step/sec: 155.713\n",
      "INFO:tensorflow:step = 9701, loss = 0.013170423 (0.640 sec)\n",
      "INFO:tensorflow:global_step/sec: 156.691\n",
      "INFO:tensorflow:step = 9801, loss = 0.01320076 (0.641 sec)\n",
      "INFO:tensorflow:global_step/sec: 154.867\n",
      "INFO:tensorflow:step = 9901, loss = 0.005007252 (0.643 sec)\n",
      "INFO:tensorflow:Saving checkpoints for 10000 into C:\\Users\\James\\AppData\\Local\\Temp\\tmpac5dskz_\\model.ckpt.\n",
      "INFO:tensorflow:Loss for final step: 0.006019692.\n"
     ]
    },
    {
     "data": {
      "text/plain": [
       "SKCompat()"
      ]
     },
     "execution_count": 19,
     "metadata": {},
     "output_type": "execute_result"
    }
   ],
   "source": [
    "feature_cols = tf.contrib.learn.infer_real_valued_columns_from_input(X_train)\n",
    "neural_net = tf.contrib.learn.DNNClassifier(hidden_units=[300,100], n_classes=10, feature_columns = feature_cols)\n",
    "neural_net = tf.contrib.learn.SKCompat(neural_net) #sklearn compatible\n",
    "neural_net.fit(X_train_augmented_scale, y_train_augmented, monitors=None,max_steps=10000)"
   ]
  },
  {
   "cell_type": "code",
   "execution_count": 24,
   "metadata": {
    "collapsed": false
   },
   "outputs": [
    {
     "name": "stdout",
     "output_type": "stream",
     "text": [
      "INFO:tensorflow:Restoring parameters from C:\\Users\\James\\AppData\\Local\\Temp\\tmpac5dskz_\\model.ckpt-10000\n"
     ]
    }
   ],
   "source": [
    "nn_pred = neural_net.predict(X_train_augmented_scale)"
   ]
  },
  {
   "cell_type": "code",
   "execution_count": 27,
   "metadata": {
    "collapsed": false,
    "scrolled": true
   },
   "outputs": [
    {
     "data": {
      "text/plain": [
       "0.9960633333333333"
      ]
     },
     "execution_count": 27,
     "metadata": {},
     "output_type": "execute_result"
    }
   ],
   "source": [
    "np.mean(nn_pred['classes'] == y_train_augmented)"
   ]
  },
  {
   "cell_type": "markdown",
   "metadata": {},
   "source": [
    "99.6% training accuracy"
   ]
  },
  {
   "cell_type": "code",
   "execution_count": 28,
   "metadata": {
    "collapsed": false
   },
   "outputs": [
    {
     "name": "stdout",
     "output_type": "stream",
     "text": [
      "INFO:tensorflow:Restoring parameters from C:\\Users\\James\\AppData\\Local\\Temp\\tmpac5dskz_\\model.ckpt-10000\n"
     ]
    }
   ],
   "source": [
    "nn_pred = neural_net.predict(X_test)"
   ]
  },
  {
   "cell_type": "code",
   "execution_count": 31,
   "metadata": {
    "collapsed": false
   },
   "outputs": [
    {
     "data": {
      "text/plain": [
       "0.9505"
      ]
     },
     "execution_count": 31,
     "metadata": {},
     "output_type": "execute_result"
    }
   ],
   "source": [
    "np.mean(nn_pred['classes'] == y_test)"
   ]
  },
  {
   "cell_type": "markdown",
   "metadata": {},
   "source": [
    "95.05% accuracy on the test set, after only 10000 iterations."
   ]
  }
 ],
 "metadata": {
  "anaconda-cloud": {},
  "kernelspec": {
   "display_name": "Python [default]",
   "language": "python",
   "name": "python3"
  },
  "language_info": {
   "codemirror_mode": {
    "name": "ipython",
    "version": 3
   },
   "file_extension": ".py",
   "mimetype": "text/x-python",
   "name": "python",
   "nbconvert_exporter": "python",
   "pygments_lexer": "ipython3",
   "version": "3.5.4"
  }
 },
 "nbformat": 4,
 "nbformat_minor": 2
}

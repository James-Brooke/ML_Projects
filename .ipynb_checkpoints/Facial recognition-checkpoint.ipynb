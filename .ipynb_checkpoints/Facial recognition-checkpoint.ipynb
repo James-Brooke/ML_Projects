{
 "cells": [
  {
   "cell_type": "markdown",
   "metadata": {
    "heading_collapsed": true
   },
   "source": [
    "# Setup"
   ]
  },
  {
   "cell_type": "code",
   "execution_count": 1,
   "metadata": {
    "collapsed": false,
    "hidden": true
   },
   "outputs": [],
   "source": [
    "import dlib\n",
    "import numpy as np\n",
    "import cv2\n",
    "\n",
    "from skimage import io"
   ]
  },
  {
   "cell_type": "code",
   "execution_count": 2,
   "metadata": {
    "collapsed": true,
    "hidden": true
   },
   "outputs": [],
   "source": [
    "face_detector = dlib.get_frontal_face_detector()"
   ]
  },
  {
   "cell_type": "code",
   "execution_count": 3,
   "metadata": {
    "collapsed": false,
    "hidden": true
   },
   "outputs": [],
   "source": [
    "face_pose_predictor = dlib.shape_predictor(r\"D:\\Models\\shape_predictor_68_face_landmarks.dat\")"
   ]
  },
  {
   "cell_type": "code",
   "execution_count": 4,
   "metadata": {
    "collapsed": true,
    "hidden": true
   },
   "outputs": [],
   "source": [
    "facerec = dlib.face_recognition_model_v1(r\"D:\\Models\\dlib_face_recognition_resnet_model_v1.dat\\dlib_face_recognition_resnet_model_v1.dat\")"
   ]
  },
  {
   "cell_type": "code",
   "execution_count": 5,
   "metadata": {
    "collapsed": true,
    "hidden": true
   },
   "outputs": [],
   "source": [
    "font = cv2.FONT_HERSHEY_SIMPLEX"
   ]
  },
  {
   "cell_type": "code",
   "execution_count": 6,
   "metadata": {
    "collapsed": true,
    "hidden": true
   },
   "outputs": [],
   "source": [
    "def FaceEmbedder(img_path):\n",
    "    \n",
    "    img = io.imread(img_path)\n",
    "    dets = face_detector(img, 1)\n",
    "    shape = face_pose_predictor(img, dets[0])\n",
    "    face_descriptor = facerec.compute_face_descriptor(img, shape)\n",
    "    return np.array(face_descriptor)"
   ]
  },
  {
   "cell_type": "code",
   "execution_count": 7,
   "metadata": {
    "collapsed": false,
    "hidden": true
   },
   "outputs": [],
   "source": [
    "def bot_left_top_right(box):\n",
    "    return [(box.left(), box.top()), (box.right(), box.bottom())]"
   ]
  },
  {
   "cell_type": "code",
   "execution_count": 8,
   "metadata": {
    "collapsed": false,
    "hidden": true
   },
   "outputs": [],
   "source": [
    "def face_lookup(embedding): \n",
    "    \n",
    "    for face in list(face_dict.items()):\n",
    "    \n",
    "        comp = np.linalg.norm(embedding - face[1])\n",
    "    \n",
    "        if comp < 0.6:\n",
    "            return(face[0])\n",
    "\n",
    "    return(\" \")"
   ]
  },
  {
   "cell_type": "markdown",
   "metadata": {
    "heading_collapsed": true
   },
   "source": [
    "# Face Dict"
   ]
  },
  {
   "cell_type": "code",
   "execution_count": 9,
   "metadata": {
    "collapsed": true,
    "hidden": true
   },
   "outputs": [],
   "source": [
    "face_dict = {}"
   ]
  },
  {
   "cell_type": "code",
   "execution_count": 10,
   "metadata": {
    "collapsed": false,
    "hidden": true
   },
   "outputs": [],
   "source": [
    "face_dict['James'] = FaceEmbedder(r\"D:\\KeepSafe\\Misc\\JamesBrookePhoto.jpg\")"
   ]
  },
  {
   "cell_type": "code",
   "execution_count": 11,
   "metadata": {
    "collapsed": true,
    "hidden": true
   },
   "outputs": [],
   "source": [
    "face_dict['Jamie'] = FaceEmbedder(\"D:\\Pictures\\Jamie.jpg\")"
   ]
  },
  {
   "cell_type": "markdown",
   "metadata": {
    "heading_collapsed": true
   },
   "source": [
    "# Recognition"
   ]
  },
  {
   "cell_type": "code",
   "execution_count": 88,
   "metadata": {
    "collapsed": false,
    "hidden": true
   },
   "outputs": [],
   "source": [
    "cap = cv2.VideoCapture(r\"D:\\Downloads\\Clip3.mp4\",0)\n",
    "\n",
    "i = 0\n",
    "\n",
    "while(cap.isOpened()):\n",
    "    ret, gray = cap.read()\n",
    "    i+=1\n",
    "    if i == 100:\n",
    "        cap.release()\n",
    "        cv2.destroyAllWindows()\n",
    "\n",
    "   \n",
    "    #gray = cv2.cvtColor(frame, cv2.COLOR_BGR2RGB, 1)\n",
    "    #gray = cv2.cvtColor(frame, cv2.COLOR_BGR2GRAY)\n",
    "\n",
    "    \n",
    "    if i % 4 == 0:\n",
    "    \n",
    "        f = face_detector(gray, 1)\n",
    "\n",
    "        for box in f:\n",
    "            bot_left, top_right = bot_left_top_right(box)\n",
    "            bot, left = bot_left\n",
    "            top, right = top_right\n",
    "            height = top-bot\n",
    "            \n",
    "            shape = face_pose_predictor(gray, box)\n",
    "            face_descriptor = facerec.compute_face_descriptor(gray, shape)\n",
    "            \n",
    "            vals = np.array(face_descriptor)\n",
    "            name = face_lookup(vals)\n",
    "            \n",
    "            \n",
    "            cv2.rectangle(gray, bot_left, top_right, (0,255,0), 3)\n",
    "            cv2.putText(gray, name, (bot, right+int(height/2)), font, 4,(255,255,255), 2, cv2.LINE_AA)            \n",
    "            \n",
    "        cv2.imshow('frame',gray)\n",
    "\n",
    "    \n",
    "    if cv2.waitKey(1) & 0xFF == ord('q'):\n",
    "        break\n",
    "        \n",
    "cap.release()\n",
    "cv2.destroyAllWindows()"
   ]
  },
  {
   "cell_type": "code",
   "execution_count": null,
   "metadata": {
    "collapsed": true,
    "hidden": true
   },
   "outputs": [],
   "source": []
  }
 ],
 "metadata": {
  "anaconda-cloud": {},
  "kernelspec": {
   "display_name": "Python [default]",
   "language": "python",
   "name": "python3"
  },
  "language_info": {
   "codemirror_mode": {
    "name": "ipython",
    "version": 3
   },
   "file_extension": ".py",
   "mimetype": "text/x-python",
   "name": "python",
   "nbconvert_exporter": "python",
   "pygments_lexer": "ipython3",
   "version": "3.5.4"
  }
 },
 "nbformat": 4,
 "nbformat_minor": 2
}
